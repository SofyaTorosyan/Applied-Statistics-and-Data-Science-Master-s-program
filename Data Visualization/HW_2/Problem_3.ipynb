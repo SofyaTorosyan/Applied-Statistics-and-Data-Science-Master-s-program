{
 "cells": [
  {
   "cell_type": "code",
   "execution_count": 2,
   "metadata": {},
   "outputs": [
    {
     "data": {
      "text/html": [
       "        <script type=\"text/javascript\">\n",
       "        window.PlotlyConfig = {MathJaxConfig: 'local'};\n",
       "        if (window.MathJax) {MathJax.Hub.Config({SVG: {font: \"STIX-Web\"}});}\n",
       "        if (typeof require !== 'undefined') {\n",
       "        require.undef(\"plotly\");\n",
       "        requirejs.config({\n",
       "            paths: {\n",
       "                'plotly': ['https://cdn.plot.ly/plotly-latest.min']\n",
       "            }\n",
       "        });\n",
       "        require(['plotly'], function(Plotly) {\n",
       "            window._Plotly = Plotly;\n",
       "        });\n",
       "        }\n",
       "        </script>\n",
       "        "
      ]
     },
     "metadata": {},
     "output_type": "display_data"
    }
   ],
   "source": [
    "import numpy as np\n",
    "import pandas as pd\n",
    "from plotly.offline import plot, iplot\n",
    "import plotly.graph_objs as go\n",
    "from plotly.offline import init_notebook_mode\n",
    "init_notebook_mode(connected=True)\n",
    "import matplotlib.pyplot as plt\n",
    "import plotly.express as px\n",
    "import json\n",
    "%matplotlib inline\n",
    "from urllib.request import urlopen\n",
    "import csv"
   ]
  },
  {
   "cell_type": "code",
   "execution_count": 4,
   "metadata": {},
   "outputs": [
    {
     "data": {
      "text/html": [
       "<div>\n",
       "<style scoped>\n",
       "    .dataframe tbody tr th:only-of-type {\n",
       "        vertical-align: middle;\n",
       "    }\n",
       "\n",
       "    .dataframe tbody tr th {\n",
       "        vertical-align: top;\n",
       "    }\n",
       "\n",
       "    .dataframe thead th {\n",
       "        text-align: right;\n",
       "    }\n",
       "</style>\n",
       "<table border=\"1\" class=\"dataframe\">\n",
       "  <thead>\n",
       "    <tr style=\"text-align: right;\">\n",
       "      <th></th>\n",
       "      <th>Country Name</th>\n",
       "      <th>Country Code</th>\n",
       "      <th>Indicator Name</th>\n",
       "      <th>Indicator Code</th>\n",
       "      <th>1960</th>\n",
       "      <th>1961</th>\n",
       "      <th>1962</th>\n",
       "      <th>1963</th>\n",
       "      <th>1964</th>\n",
       "      <th>1965</th>\n",
       "      <th>...</th>\n",
       "      <th>2008</th>\n",
       "      <th>2009</th>\n",
       "      <th>2010</th>\n",
       "      <th>2011</th>\n",
       "      <th>2012</th>\n",
       "      <th>2013</th>\n",
       "      <th>2014</th>\n",
       "      <th>2015</th>\n",
       "      <th>2016</th>\n",
       "      <th>2017</th>\n",
       "    </tr>\n",
       "  </thead>\n",
       "  <tbody>\n",
       "    <tr>\n",
       "      <th>0</th>\n",
       "      <td>Aruba</td>\n",
       "      <td>ABW</td>\n",
       "      <td>GDP (current US$)</td>\n",
       "      <td>NY.GDP.MKTP.CD</td>\n",
       "      <td>NaN</td>\n",
       "      <td>NaN</td>\n",
       "      <td>NaN</td>\n",
       "      <td>NaN</td>\n",
       "      <td>NaN</td>\n",
       "      <td>NaN</td>\n",
       "      <td>...</td>\n",
       "      <td>2.745251e+09</td>\n",
       "      <td>2.498883e+09</td>\n",
       "      <td>2.390503e+09</td>\n",
       "      <td>2.549721e+09</td>\n",
       "      <td>2.534637e+09</td>\n",
       "      <td>2.581564e+09</td>\n",
       "      <td>2.649721e+09</td>\n",
       "      <td>2.691620e+09</td>\n",
       "      <td>2.646927e+09</td>\n",
       "      <td>2.700559e+09</td>\n",
       "    </tr>\n",
       "    <tr>\n",
       "      <th>1</th>\n",
       "      <td>Afghanistan</td>\n",
       "      <td>AFG</td>\n",
       "      <td>GDP (current US$)</td>\n",
       "      <td>NY.GDP.MKTP.CD</td>\n",
       "      <td>5.377778e+08</td>\n",
       "      <td>5.488889e+08</td>\n",
       "      <td>5.466667e+08</td>\n",
       "      <td>7.511112e+08</td>\n",
       "      <td>8.000000e+08</td>\n",
       "      <td>1.006667e+09</td>\n",
       "      <td>...</td>\n",
       "      <td>1.010923e+10</td>\n",
       "      <td>1.243909e+10</td>\n",
       "      <td>1.585657e+10</td>\n",
       "      <td>1.780429e+10</td>\n",
       "      <td>1.990732e+10</td>\n",
       "      <td>2.056107e+10</td>\n",
       "      <td>2.048489e+10</td>\n",
       "      <td>1.990711e+10</td>\n",
       "      <td>1.904636e+10</td>\n",
       "      <td>1.954398e+10</td>\n",
       "    </tr>\n",
       "    <tr>\n",
       "      <th>2</th>\n",
       "      <td>Angola</td>\n",
       "      <td>AGO</td>\n",
       "      <td>GDP (current US$)</td>\n",
       "      <td>NY.GDP.MKTP.CD</td>\n",
       "      <td>NaN</td>\n",
       "      <td>NaN</td>\n",
       "      <td>NaN</td>\n",
       "      <td>NaN</td>\n",
       "      <td>NaN</td>\n",
       "      <td>NaN</td>\n",
       "      <td>...</td>\n",
       "      <td>8.853861e+10</td>\n",
       "      <td>7.030716e+10</td>\n",
       "      <td>8.379950e+10</td>\n",
       "      <td>1.117897e+11</td>\n",
       "      <td>1.280529e+11</td>\n",
       "      <td>1.367099e+11</td>\n",
       "      <td>1.457122e+11</td>\n",
       "      <td>1.161936e+11</td>\n",
       "      <td>1.011239e+11</td>\n",
       "      <td>1.221238e+11</td>\n",
       "    </tr>\n",
       "    <tr>\n",
       "      <th>3</th>\n",
       "      <td>Albania</td>\n",
       "      <td>ALB</td>\n",
       "      <td>GDP (current US$)</td>\n",
       "      <td>NY.GDP.MKTP.CD</td>\n",
       "      <td>NaN</td>\n",
       "      <td>NaN</td>\n",
       "      <td>NaN</td>\n",
       "      <td>NaN</td>\n",
       "      <td>NaN</td>\n",
       "      <td>NaN</td>\n",
       "      <td>...</td>\n",
       "      <td>1.288135e+10</td>\n",
       "      <td>1.204421e+10</td>\n",
       "      <td>1.192696e+10</td>\n",
       "      <td>1.289087e+10</td>\n",
       "      <td>1.231978e+10</td>\n",
       "      <td>1.277628e+10</td>\n",
       "      <td>1.322825e+10</td>\n",
       "      <td>1.138693e+10</td>\n",
       "      <td>1.188368e+10</td>\n",
       "      <td>1.303854e+10</td>\n",
       "    </tr>\n",
       "    <tr>\n",
       "      <th>4</th>\n",
       "      <td>Andorra</td>\n",
       "      <td>AND</td>\n",
       "      <td>GDP (current US$)</td>\n",
       "      <td>NY.GDP.MKTP.CD</td>\n",
       "      <td>NaN</td>\n",
       "      <td>NaN</td>\n",
       "      <td>NaN</td>\n",
       "      <td>NaN</td>\n",
       "      <td>NaN</td>\n",
       "      <td>NaN</td>\n",
       "      <td>...</td>\n",
       "      <td>4.007353e+09</td>\n",
       "      <td>3.660531e+09</td>\n",
       "      <td>3.355695e+09</td>\n",
       "      <td>3.442063e+09</td>\n",
       "      <td>3.164615e+09</td>\n",
       "      <td>3.281585e+09</td>\n",
       "      <td>3.350736e+09</td>\n",
       "      <td>2.811489e+09</td>\n",
       "      <td>2.877312e+09</td>\n",
       "      <td>3.012914e+09</td>\n",
       "    </tr>\n",
       "    <tr>\n",
       "      <th>...</th>\n",
       "      <td>...</td>\n",
       "      <td>...</td>\n",
       "      <td>...</td>\n",
       "      <td>...</td>\n",
       "      <td>...</td>\n",
       "      <td>...</td>\n",
       "      <td>...</td>\n",
       "      <td>...</td>\n",
       "      <td>...</td>\n",
       "      <td>...</td>\n",
       "      <td>...</td>\n",
       "      <td>...</td>\n",
       "      <td>...</td>\n",
       "      <td>...</td>\n",
       "      <td>...</td>\n",
       "      <td>...</td>\n",
       "      <td>...</td>\n",
       "      <td>...</td>\n",
       "      <td>...</td>\n",
       "      <td>...</td>\n",
       "      <td>...</td>\n",
       "    </tr>\n",
       "    <tr>\n",
       "      <th>259</th>\n",
       "      <td>Kosovo</td>\n",
       "      <td>XKX</td>\n",
       "      <td>GDP (current US$)</td>\n",
       "      <td>NY.GDP.MKTP.CD</td>\n",
       "      <td>NaN</td>\n",
       "      <td>NaN</td>\n",
       "      <td>NaN</td>\n",
       "      <td>NaN</td>\n",
       "      <td>NaN</td>\n",
       "      <td>NaN</td>\n",
       "      <td>...</td>\n",
       "      <td>5.687418e+09</td>\n",
       "      <td>5.653793e+09</td>\n",
       "      <td>5.830464e+09</td>\n",
       "      <td>6.691827e+09</td>\n",
       "      <td>6.499936e+09</td>\n",
       "      <td>7.071960e+09</td>\n",
       "      <td>7.386891e+09</td>\n",
       "      <td>6.440612e+09</td>\n",
       "      <td>6.714712e+09</td>\n",
       "      <td>7.244889e+09</td>\n",
       "    </tr>\n",
       "    <tr>\n",
       "      <th>260</th>\n",
       "      <td>Yemen, Rep.</td>\n",
       "      <td>YEM</td>\n",
       "      <td>GDP (current US$)</td>\n",
       "      <td>NY.GDP.MKTP.CD</td>\n",
       "      <td>NaN</td>\n",
       "      <td>NaN</td>\n",
       "      <td>NaN</td>\n",
       "      <td>NaN</td>\n",
       "      <td>NaN</td>\n",
       "      <td>NaN</td>\n",
       "      <td>...</td>\n",
       "      <td>2.691085e+10</td>\n",
       "      <td>2.513027e+10</td>\n",
       "      <td>3.090675e+10</td>\n",
       "      <td>3.272642e+10</td>\n",
       "      <td>3.540134e+10</td>\n",
       "      <td>4.041523e+10</td>\n",
       "      <td>4.322858e+10</td>\n",
       "      <td>4.559357e+10</td>\n",
       "      <td>3.643665e+10</td>\n",
       "      <td>3.126768e+10</td>\n",
       "    </tr>\n",
       "    <tr>\n",
       "      <th>261</th>\n",
       "      <td>South Africa</td>\n",
       "      <td>ZAF</td>\n",
       "      <td>GDP (current US$)</td>\n",
       "      <td>NY.GDP.MKTP.CD</td>\n",
       "      <td>7.575248e+09</td>\n",
       "      <td>7.972841e+09</td>\n",
       "      <td>8.497830e+09</td>\n",
       "      <td>9.423212e+09</td>\n",
       "      <td>1.037379e+10</td>\n",
       "      <td>1.133417e+10</td>\n",
       "      <td>...</td>\n",
       "      <td>2.867698e+11</td>\n",
       "      <td>2.959365e+11</td>\n",
       "      <td>3.753494e+11</td>\n",
       "      <td>4.164189e+11</td>\n",
       "      <td>3.963279e+11</td>\n",
       "      <td>3.666432e+11</td>\n",
       "      <td>3.506362e+11</td>\n",
       "      <td>3.175368e+11</td>\n",
       "      <td>2.957466e+11</td>\n",
       "      <td>3.488716e+11</td>\n",
       "    </tr>\n",
       "    <tr>\n",
       "      <th>262</th>\n",
       "      <td>Zambia</td>\n",
       "      <td>ZMB</td>\n",
       "      <td>GDP (current US$)</td>\n",
       "      <td>NY.GDP.MKTP.CD</td>\n",
       "      <td>7.130000e+08</td>\n",
       "      <td>6.962857e+08</td>\n",
       "      <td>6.931429e+08</td>\n",
       "      <td>7.187143e+08</td>\n",
       "      <td>8.394286e+08</td>\n",
       "      <td>1.082857e+09</td>\n",
       "      <td>...</td>\n",
       "      <td>1.791086e+10</td>\n",
       "      <td>1.532834e+10</td>\n",
       "      <td>2.026556e+10</td>\n",
       "      <td>2.346010e+10</td>\n",
       "      <td>2.550337e+10</td>\n",
       "      <td>2.804546e+10</td>\n",
       "      <td>2.715063e+10</td>\n",
       "      <td>2.115439e+10</td>\n",
       "      <td>2.095475e+10</td>\n",
       "      <td>2.586814e+10</td>\n",
       "    </tr>\n",
       "    <tr>\n",
       "      <th>263</th>\n",
       "      <td>Zimbabwe</td>\n",
       "      <td>ZWE</td>\n",
       "      <td>GDP (current US$)</td>\n",
       "      <td>NY.GDP.MKTP.CD</td>\n",
       "      <td>1.052990e+09</td>\n",
       "      <td>1.096647e+09</td>\n",
       "      <td>1.117602e+09</td>\n",
       "      <td>1.159512e+09</td>\n",
       "      <td>1.217138e+09</td>\n",
       "      <td>1.311436e+09</td>\n",
       "      <td>...</td>\n",
       "      <td>4.415703e+09</td>\n",
       "      <td>9.665793e+09</td>\n",
       "      <td>1.204166e+10</td>\n",
       "      <td>1.410192e+10</td>\n",
       "      <td>1.711485e+10</td>\n",
       "      <td>1.909102e+10</td>\n",
       "      <td>1.949552e+10</td>\n",
       "      <td>1.996312e+10</td>\n",
       "      <td>2.054868e+10</td>\n",
       "      <td>2.204090e+10</td>\n",
       "    </tr>\n",
       "  </tbody>\n",
       "</table>\n",
       "<p>264 rows × 62 columns</p>\n",
       "</div>"
      ],
      "text/plain": [
       "     Country Name Country Code     Indicator Name  Indicator Code  \\\n",
       "0           Aruba          ABW  GDP (current US$)  NY.GDP.MKTP.CD   \n",
       "1     Afghanistan          AFG  GDP (current US$)  NY.GDP.MKTP.CD   \n",
       "2          Angola          AGO  GDP (current US$)  NY.GDP.MKTP.CD   \n",
       "3         Albania          ALB  GDP (current US$)  NY.GDP.MKTP.CD   \n",
       "4         Andorra          AND  GDP (current US$)  NY.GDP.MKTP.CD   \n",
       "..            ...          ...                ...             ...   \n",
       "259        Kosovo          XKX  GDP (current US$)  NY.GDP.MKTP.CD   \n",
       "260   Yemen, Rep.          YEM  GDP (current US$)  NY.GDP.MKTP.CD   \n",
       "261  South Africa          ZAF  GDP (current US$)  NY.GDP.MKTP.CD   \n",
       "262        Zambia          ZMB  GDP (current US$)  NY.GDP.MKTP.CD   \n",
       "263      Zimbabwe          ZWE  GDP (current US$)  NY.GDP.MKTP.CD   \n",
       "\n",
       "             1960          1961          1962          1963          1964  \\\n",
       "0             NaN           NaN           NaN           NaN           NaN   \n",
       "1    5.377778e+08  5.488889e+08  5.466667e+08  7.511112e+08  8.000000e+08   \n",
       "2             NaN           NaN           NaN           NaN           NaN   \n",
       "3             NaN           NaN           NaN           NaN           NaN   \n",
       "4             NaN           NaN           NaN           NaN           NaN   \n",
       "..            ...           ...           ...           ...           ...   \n",
       "259           NaN           NaN           NaN           NaN           NaN   \n",
       "260           NaN           NaN           NaN           NaN           NaN   \n",
       "261  7.575248e+09  7.972841e+09  8.497830e+09  9.423212e+09  1.037379e+10   \n",
       "262  7.130000e+08  6.962857e+08  6.931429e+08  7.187143e+08  8.394286e+08   \n",
       "263  1.052990e+09  1.096647e+09  1.117602e+09  1.159512e+09  1.217138e+09   \n",
       "\n",
       "             1965  ...          2008          2009          2010  \\\n",
       "0             NaN  ...  2.745251e+09  2.498883e+09  2.390503e+09   \n",
       "1    1.006667e+09  ...  1.010923e+10  1.243909e+10  1.585657e+10   \n",
       "2             NaN  ...  8.853861e+10  7.030716e+10  8.379950e+10   \n",
       "3             NaN  ...  1.288135e+10  1.204421e+10  1.192696e+10   \n",
       "4             NaN  ...  4.007353e+09  3.660531e+09  3.355695e+09   \n",
       "..            ...  ...           ...           ...           ...   \n",
       "259           NaN  ...  5.687418e+09  5.653793e+09  5.830464e+09   \n",
       "260           NaN  ...  2.691085e+10  2.513027e+10  3.090675e+10   \n",
       "261  1.133417e+10  ...  2.867698e+11  2.959365e+11  3.753494e+11   \n",
       "262  1.082857e+09  ...  1.791086e+10  1.532834e+10  2.026556e+10   \n",
       "263  1.311436e+09  ...  4.415703e+09  9.665793e+09  1.204166e+10   \n",
       "\n",
       "             2011          2012          2013          2014          2015  \\\n",
       "0    2.549721e+09  2.534637e+09  2.581564e+09  2.649721e+09  2.691620e+09   \n",
       "1    1.780429e+10  1.990732e+10  2.056107e+10  2.048489e+10  1.990711e+10   \n",
       "2    1.117897e+11  1.280529e+11  1.367099e+11  1.457122e+11  1.161936e+11   \n",
       "3    1.289087e+10  1.231978e+10  1.277628e+10  1.322825e+10  1.138693e+10   \n",
       "4    3.442063e+09  3.164615e+09  3.281585e+09  3.350736e+09  2.811489e+09   \n",
       "..            ...           ...           ...           ...           ...   \n",
       "259  6.691827e+09  6.499936e+09  7.071960e+09  7.386891e+09  6.440612e+09   \n",
       "260  3.272642e+10  3.540134e+10  4.041523e+10  4.322858e+10  4.559357e+10   \n",
       "261  4.164189e+11  3.963279e+11  3.666432e+11  3.506362e+11  3.175368e+11   \n",
       "262  2.346010e+10  2.550337e+10  2.804546e+10  2.715063e+10  2.115439e+10   \n",
       "263  1.410192e+10  1.711485e+10  1.909102e+10  1.949552e+10  1.996312e+10   \n",
       "\n",
       "             2016          2017  \n",
       "0    2.646927e+09  2.700559e+09  \n",
       "1    1.904636e+10  1.954398e+10  \n",
       "2    1.011239e+11  1.221238e+11  \n",
       "3    1.188368e+10  1.303854e+10  \n",
       "4    2.877312e+09  3.012914e+09  \n",
       "..            ...           ...  \n",
       "259  6.714712e+09  7.244889e+09  \n",
       "260  3.643665e+10  3.126768e+10  \n",
       "261  2.957466e+11  3.488716e+11  \n",
       "262  2.095475e+10  2.586814e+10  \n",
       "263  2.054868e+10  2.204090e+10  \n",
       "\n",
       "[264 rows x 62 columns]"
      ]
     },
     "execution_count": 4,
     "metadata": {},
     "output_type": "execute_result"
    }
   ],
   "source": [
    "worldbank = pd.read_csv(\"../data/hw2_worldbank_gdp.csv\", dtype={\"Country Name\": str})\n",
    "worldbank"
   ]
  },
  {
   "cell_type": "code",
   "execution_count": 5,
   "metadata": {},
   "outputs": [
    {
     "data": {
      "text/html": [
       "<div>\n",
       "<style scoped>\n",
       "    .dataframe tbody tr th:only-of-type {\n",
       "        vertical-align: middle;\n",
       "    }\n",
       "\n",
       "    .dataframe tbody tr th {\n",
       "        vertical-align: top;\n",
       "    }\n",
       "\n",
       "    .dataframe thead th {\n",
       "        text-align: right;\n",
       "    }\n",
       "</style>\n",
       "<table border=\"1\" class=\"dataframe\">\n",
       "  <thead>\n",
       "    <tr style=\"text-align: right;\">\n",
       "      <th></th>\n",
       "      <th>Country Name</th>\n",
       "      <th>Country Code</th>\n",
       "      <th>Indicator Name</th>\n",
       "      <th>Indicator Code</th>\n",
       "      <th>2009</th>\n",
       "      <th>2010</th>\n",
       "    </tr>\n",
       "  </thead>\n",
       "  <tbody>\n",
       "    <tr>\n",
       "      <th>0</th>\n",
       "      <td>Aruba</td>\n",
       "      <td>ABW</td>\n",
       "      <td>GDP (current US$)</td>\n",
       "      <td>NY.GDP.MKTP.CD</td>\n",
       "      <td>2.498883e+09</td>\n",
       "      <td>2.390503e+09</td>\n",
       "    </tr>\n",
       "    <tr>\n",
       "      <th>1</th>\n",
       "      <td>Afghanistan</td>\n",
       "      <td>AFG</td>\n",
       "      <td>GDP (current US$)</td>\n",
       "      <td>NY.GDP.MKTP.CD</td>\n",
       "      <td>1.243909e+10</td>\n",
       "      <td>1.585657e+10</td>\n",
       "    </tr>\n",
       "    <tr>\n",
       "      <th>2</th>\n",
       "      <td>Angola</td>\n",
       "      <td>AGO</td>\n",
       "      <td>GDP (current US$)</td>\n",
       "      <td>NY.GDP.MKTP.CD</td>\n",
       "      <td>7.030716e+10</td>\n",
       "      <td>8.379950e+10</td>\n",
       "    </tr>\n",
       "    <tr>\n",
       "      <th>3</th>\n",
       "      <td>Albania</td>\n",
       "      <td>ALB</td>\n",
       "      <td>GDP (current US$)</td>\n",
       "      <td>NY.GDP.MKTP.CD</td>\n",
       "      <td>1.204421e+10</td>\n",
       "      <td>1.192696e+10</td>\n",
       "    </tr>\n",
       "    <tr>\n",
       "      <th>4</th>\n",
       "      <td>Andorra</td>\n",
       "      <td>AND</td>\n",
       "      <td>GDP (current US$)</td>\n",
       "      <td>NY.GDP.MKTP.CD</td>\n",
       "      <td>3.660531e+09</td>\n",
       "      <td>3.355695e+09</td>\n",
       "    </tr>\n",
       "    <tr>\n",
       "      <th>...</th>\n",
       "      <td>...</td>\n",
       "      <td>...</td>\n",
       "      <td>...</td>\n",
       "      <td>...</td>\n",
       "      <td>...</td>\n",
       "      <td>...</td>\n",
       "    </tr>\n",
       "    <tr>\n",
       "      <th>259</th>\n",
       "      <td>Kosovo</td>\n",
       "      <td>XKX</td>\n",
       "      <td>GDP (current US$)</td>\n",
       "      <td>NY.GDP.MKTP.CD</td>\n",
       "      <td>5.653793e+09</td>\n",
       "      <td>5.830464e+09</td>\n",
       "    </tr>\n",
       "    <tr>\n",
       "      <th>260</th>\n",
       "      <td>Yemen, Rep.</td>\n",
       "      <td>YEM</td>\n",
       "      <td>GDP (current US$)</td>\n",
       "      <td>NY.GDP.MKTP.CD</td>\n",
       "      <td>2.513027e+10</td>\n",
       "      <td>3.090675e+10</td>\n",
       "    </tr>\n",
       "    <tr>\n",
       "      <th>261</th>\n",
       "      <td>South Africa</td>\n",
       "      <td>ZAF</td>\n",
       "      <td>GDP (current US$)</td>\n",
       "      <td>NY.GDP.MKTP.CD</td>\n",
       "      <td>2.959365e+11</td>\n",
       "      <td>3.753494e+11</td>\n",
       "    </tr>\n",
       "    <tr>\n",
       "      <th>262</th>\n",
       "      <td>Zambia</td>\n",
       "      <td>ZMB</td>\n",
       "      <td>GDP (current US$)</td>\n",
       "      <td>NY.GDP.MKTP.CD</td>\n",
       "      <td>1.532834e+10</td>\n",
       "      <td>2.026556e+10</td>\n",
       "    </tr>\n",
       "    <tr>\n",
       "      <th>263</th>\n",
       "      <td>Zimbabwe</td>\n",
       "      <td>ZWE</td>\n",
       "      <td>GDP (current US$)</td>\n",
       "      <td>NY.GDP.MKTP.CD</td>\n",
       "      <td>9.665793e+09</td>\n",
       "      <td>1.204166e+10</td>\n",
       "    </tr>\n",
       "  </tbody>\n",
       "</table>\n",
       "<p>264 rows × 6 columns</p>\n",
       "</div>"
      ],
      "text/plain": [
       "     Country Name Country Code     Indicator Name  Indicator Code  \\\n",
       "0           Aruba          ABW  GDP (current US$)  NY.GDP.MKTP.CD   \n",
       "1     Afghanistan          AFG  GDP (current US$)  NY.GDP.MKTP.CD   \n",
       "2          Angola          AGO  GDP (current US$)  NY.GDP.MKTP.CD   \n",
       "3         Albania          ALB  GDP (current US$)  NY.GDP.MKTP.CD   \n",
       "4         Andorra          AND  GDP (current US$)  NY.GDP.MKTP.CD   \n",
       "..            ...          ...                ...             ...   \n",
       "259        Kosovo          XKX  GDP (current US$)  NY.GDP.MKTP.CD   \n",
       "260   Yemen, Rep.          YEM  GDP (current US$)  NY.GDP.MKTP.CD   \n",
       "261  South Africa          ZAF  GDP (current US$)  NY.GDP.MKTP.CD   \n",
       "262        Zambia          ZMB  GDP (current US$)  NY.GDP.MKTP.CD   \n",
       "263      Zimbabwe          ZWE  GDP (current US$)  NY.GDP.MKTP.CD   \n",
       "\n",
       "             2009          2010  \n",
       "0    2.498883e+09  2.390503e+09  \n",
       "1    1.243909e+10  1.585657e+10  \n",
       "2    7.030716e+10  8.379950e+10  \n",
       "3    1.204421e+10  1.192696e+10  \n",
       "4    3.660531e+09  3.355695e+09  \n",
       "..            ...           ...  \n",
       "259  5.653793e+09  5.830464e+09  \n",
       "260  2.513027e+10  3.090675e+10  \n",
       "261  2.959365e+11  3.753494e+11  \n",
       "262  1.532834e+10  2.026556e+10  \n",
       "263  9.665793e+09  1.204166e+10  \n",
       "\n",
       "[264 rows x 6 columns]"
      ]
     },
     "execution_count": 5,
     "metadata": {},
     "output_type": "execute_result"
    }
   ],
   "source": [
    "worldbank_1 = worldbank[[\"Country Name\", \"Country Code\", \"Indicator Name\", \"Indicator Code\", \"2009\", \"2010\"]]\n",
    "worldbank_1"
   ]
  },
  {
   "cell_type": "code",
   "execution_count": 6,
   "metadata": {},
   "outputs": [],
   "source": [
    "worldbank_1 = worldbank_1.dropna(axis = 0, how = 'any')"
   ]
  },
  {
   "cell_type": "code",
   "execution_count": 7,
   "metadata": {},
   "outputs": [
    {
     "data": {
      "text/plain": [
       "249"
      ]
     },
     "execution_count": 7,
     "metadata": {},
     "output_type": "execute_result"
    }
   ],
   "source": [
    "percentage_changes = []\n",
    "number_of_rows = worldbank_1.shape[0]\n",
    "number_of_rows"
   ]
  },
  {
   "cell_type": "code",
   "execution_count": 8,
   "metadata": {},
   "outputs": [
    {
     "name": "stderr",
     "output_type": "stream",
     "text": [
      "C:\\Users\\user\\Anaconda3\\lib\\site-packages\\ipykernel_launcher.py:3: SettingWithCopyWarning:\n",
      "\n",
      "\n",
      "A value is trying to be set on a copy of a slice from a DataFrame.\n",
      "Try using .loc[row_indexer,col_indexer] = value instead\n",
      "\n",
      "See the caveats in the documentation: https://pandas.pydata.org/pandas-docs/stable/user_guide/indexing.html#returning-a-view-versus-a-copy\n",
      "\n"
     ]
    }
   ],
   "source": [
    "percentage_changes = ((worldbank_1[\"2010\"] - worldbank_1[\"2009\"])/ worldbank_1[\"2009\"]) * 100\n",
    "percentage_changes\n",
    "worldbank_1[\"GDP_change\"] = percentage_changes"
   ]
  },
  {
   "cell_type": "code",
   "execution_count": 9,
   "metadata": {},
   "outputs": [],
   "source": [
    "#!!!!!!!!!!!!!!!!!!!!!!!!!!!!!!!!!!!!!!!!!!!!!!!!!!!!!!!!!!!!!!!!!!!!!!!!!!!\n",
    "# Please check, I couldn't plot using choropleth_mapbox. What was the reason.\n",
    "\n",
    "# Convert csv to json\n",
    "#worldbank_1[\"GDP_change\"] = percentage_changes\n",
    "#df = worldbank_1\n",
    "#df.to_json (\"C:\\\\Users\\\\user\\\\Desktop\\\\HW_2\\\\data\\\\bank_.json\")\n",
    "\n",
    "# Opening JSON file \n",
    "#f = open('C:\\\\Users\\\\user\\\\Desktop\\\\HW_2\\\\data\\\\bank_.json')\n",
    "#GDP_json = json.load(f) \n",
    "#GDP_json\n",
    "\n",
    "### Create figure ###\n",
    "#fig = px.choropleth_mapbox(worldbank_1, \n",
    "#                           geojson=GDP_json,\n",
    "#                           locations = \"Country Name\",\n",
    "#                           color = \"GDP_change\",\n",
    "#                           color_continuous_scale=\"reds\",\n",
    "#                           range_color=(0, 10),\n",
    "#                           center = {\"lat\": 47.754091, \"lon\": 80.486835},\n",
    "#                           mapbox_style=\"carto-positron\",\n",
    "#                           zoom=3,\n",
    "#                           opacity=0.1,\n",
    "#                           labels={\"GDP_change\": 'GDP_change'}\n",
    "#                          )\n",
    "#fig.update_layout(margin={\"r\":0,\"t\":0,\"l\":0,\"b\":0})\n",
    "#fig.show()"
   ]
  },
  {
   "cell_type": "code",
   "execution_count": 10,
   "metadata": {},
   "outputs": [
    {
     "data": {
      "text/html": [
       "<div>\n",
       "<style scoped>\n",
       "    .dataframe tbody tr th:only-of-type {\n",
       "        vertical-align: middle;\n",
       "    }\n",
       "\n",
       "    .dataframe tbody tr th {\n",
       "        vertical-align: top;\n",
       "    }\n",
       "\n",
       "    .dataframe thead th {\n",
       "        text-align: right;\n",
       "    }\n",
       "</style>\n",
       "<table border=\"1\" class=\"dataframe\">\n",
       "  <thead>\n",
       "    <tr style=\"text-align: right;\">\n",
       "      <th></th>\n",
       "      <th>Country Name</th>\n",
       "      <th>Country Code</th>\n",
       "      <th>Indicator Name</th>\n",
       "      <th>Indicator Code</th>\n",
       "      <th>2009</th>\n",
       "      <th>2010</th>\n",
       "      <th>GDP_change</th>\n",
       "    </tr>\n",
       "  </thead>\n",
       "  <tbody>\n",
       "    <tr>\n",
       "      <th>1</th>\n",
       "      <td>Afghanistan</td>\n",
       "      <td>AFG</td>\n",
       "      <td>GDP (current US$)</td>\n",
       "      <td>NY.GDP.MKTP.CD</td>\n",
       "      <td>1.243909e+10</td>\n",
       "      <td>1.585657e+10</td>\n",
       "      <td>27.473782</td>\n",
       "    </tr>\n",
       "    <tr>\n",
       "      <th>2</th>\n",
       "      <td>Angola</td>\n",
       "      <td>AGO</td>\n",
       "      <td>GDP (current US$)</td>\n",
       "      <td>NY.GDP.MKTP.CD</td>\n",
       "      <td>7.030716e+10</td>\n",
       "      <td>8.379950e+10</td>\n",
       "      <td>19.190552</td>\n",
       "    </tr>\n",
       "    <tr>\n",
       "      <th>5</th>\n",
       "      <td>Arab World</td>\n",
       "      <td>ARB</td>\n",
       "      <td>GDP (current US$)</td>\n",
       "      <td>NY.GDP.MKTP.CD</td>\n",
       "      <td>1.796200e+12</td>\n",
       "      <td>2.109932e+12</td>\n",
       "      <td>17.466456</td>\n",
       "    </tr>\n",
       "    <tr>\n",
       "      <th>6</th>\n",
       "      <td>United Arab Emirates</td>\n",
       "      <td>ARE</td>\n",
       "      <td>GDP (current US$)</td>\n",
       "      <td>NY.GDP.MKTP.CD</td>\n",
       "      <td>2.535474e+11</td>\n",
       "      <td>2.897873e+11</td>\n",
       "      <td>14.293180</td>\n",
       "    </tr>\n",
       "    <tr>\n",
       "      <th>7</th>\n",
       "      <td>Argentina</td>\n",
       "      <td>ARG</td>\n",
       "      <td>GDP (current US$)</td>\n",
       "      <td>NY.GDP.MKTP.CD</td>\n",
       "      <td>3.329765e+11</td>\n",
       "      <td>4.236274e+11</td>\n",
       "      <td>27.224426</td>\n",
       "    </tr>\n",
       "    <tr>\n",
       "      <th>...</th>\n",
       "      <td>...</td>\n",
       "      <td>...</td>\n",
       "      <td>...</td>\n",
       "      <td>...</td>\n",
       "      <td>...</td>\n",
       "      <td>...</td>\n",
       "      <td>...</td>\n",
       "    </tr>\n",
       "    <tr>\n",
       "      <th>259</th>\n",
       "      <td>Kosovo</td>\n",
       "      <td>XKX</td>\n",
       "      <td>GDP (current US$)</td>\n",
       "      <td>NY.GDP.MKTP.CD</td>\n",
       "      <td>5.653793e+09</td>\n",
       "      <td>5.830464e+09</td>\n",
       "      <td>3.124820</td>\n",
       "    </tr>\n",
       "    <tr>\n",
       "      <th>260</th>\n",
       "      <td>Yemen, Rep.</td>\n",
       "      <td>YEM</td>\n",
       "      <td>GDP (current US$)</td>\n",
       "      <td>NY.GDP.MKTP.CD</td>\n",
       "      <td>2.513027e+10</td>\n",
       "      <td>3.090675e+10</td>\n",
       "      <td>22.986122</td>\n",
       "    </tr>\n",
       "    <tr>\n",
       "      <th>261</th>\n",
       "      <td>South Africa</td>\n",
       "      <td>ZAF</td>\n",
       "      <td>GDP (current US$)</td>\n",
       "      <td>NY.GDP.MKTP.CD</td>\n",
       "      <td>2.959365e+11</td>\n",
       "      <td>3.753494e+11</td>\n",
       "      <td>26.834460</td>\n",
       "    </tr>\n",
       "    <tr>\n",
       "      <th>262</th>\n",
       "      <td>Zambia</td>\n",
       "      <td>ZMB</td>\n",
       "      <td>GDP (current US$)</td>\n",
       "      <td>NY.GDP.MKTP.CD</td>\n",
       "      <td>1.532834e+10</td>\n",
       "      <td>2.026556e+10</td>\n",
       "      <td>32.209706</td>\n",
       "    </tr>\n",
       "    <tr>\n",
       "      <th>263</th>\n",
       "      <td>Zimbabwe</td>\n",
       "      <td>ZWE</td>\n",
       "      <td>GDP (current US$)</td>\n",
       "      <td>NY.GDP.MKTP.CD</td>\n",
       "      <td>9.665793e+09</td>\n",
       "      <td>1.204166e+10</td>\n",
       "      <td>24.580102</td>\n",
       "    </tr>\n",
       "  </tbody>\n",
       "</table>\n",
       "<p>209 rows × 7 columns</p>\n",
       "</div>"
      ],
      "text/plain": [
       "             Country Name Country Code     Indicator Name  Indicator Code  \\\n",
       "1             Afghanistan          AFG  GDP (current US$)  NY.GDP.MKTP.CD   \n",
       "2                  Angola          AGO  GDP (current US$)  NY.GDP.MKTP.CD   \n",
       "5              Arab World          ARB  GDP (current US$)  NY.GDP.MKTP.CD   \n",
       "6    United Arab Emirates          ARE  GDP (current US$)  NY.GDP.MKTP.CD   \n",
       "7               Argentina          ARG  GDP (current US$)  NY.GDP.MKTP.CD   \n",
       "..                    ...          ...                ...             ...   \n",
       "259                Kosovo          XKX  GDP (current US$)  NY.GDP.MKTP.CD   \n",
       "260           Yemen, Rep.          YEM  GDP (current US$)  NY.GDP.MKTP.CD   \n",
       "261          South Africa          ZAF  GDP (current US$)  NY.GDP.MKTP.CD   \n",
       "262                Zambia          ZMB  GDP (current US$)  NY.GDP.MKTP.CD   \n",
       "263              Zimbabwe          ZWE  GDP (current US$)  NY.GDP.MKTP.CD   \n",
       "\n",
       "             2009          2010  GDP_change  \n",
       "1    1.243909e+10  1.585657e+10   27.473782  \n",
       "2    7.030716e+10  8.379950e+10   19.190552  \n",
       "5    1.796200e+12  2.109932e+12   17.466456  \n",
       "6    2.535474e+11  2.897873e+11   14.293180  \n",
       "7    3.329765e+11  4.236274e+11   27.224426  \n",
       "..            ...           ...         ...  \n",
       "259  5.653793e+09  5.830464e+09    3.124820  \n",
       "260  2.513027e+10  3.090675e+10   22.986122  \n",
       "261  2.959365e+11  3.753494e+11   26.834460  \n",
       "262  1.532834e+10  2.026556e+10   32.209706  \n",
       "263  9.665793e+09  1.204166e+10   24.580102  \n",
       "\n",
       "[209 rows x 7 columns]"
      ]
     },
     "execution_count": 10,
     "metadata": {},
     "output_type": "execute_result"
    }
   ],
   "source": [
    "#fig = go.Figure(data=go.Choropleth(\n",
    "#    locations=worldbank_1['Country Code'], # Spatial coordinates\n",
    "#    z = worldbank_1['GDP_change'].astype(float), # Data to be color-coded\n",
    "#    #locationmode = 'country names', # set of locations match entries in `locations`\n",
    "#    colorscale = 'Reds',\n",
    "#    #color = 'lifeExp',\n",
    "#    colorbar_title = \"GDP change\",\n",
    "#))\n",
    "#\n",
    "#fig.update_layout(\n",
    "#    title_text = 'Worlds GDP in 2009 2010',\n",
    "#    geo_scope='world',\n",
    "#)\n",
    "#fig.show()\n",
    "\n",
    "# df which will contain only positive changes\n",
    "worldbank_with_positive_change = worldbank_1[worldbank_1['GDP_change'] > 0]\n",
    "worldbank_with_positive_change"
   ]
  },
  {
   "cell_type": "code",
   "execution_count": 11,
   "metadata": {},
   "outputs": [
    {
     "data": {
      "text/html": [
       "<div>\n",
       "<style scoped>\n",
       "    .dataframe tbody tr th:only-of-type {\n",
       "        vertical-align: middle;\n",
       "    }\n",
       "\n",
       "    .dataframe tbody tr th {\n",
       "        vertical-align: top;\n",
       "    }\n",
       "\n",
       "    .dataframe thead th {\n",
       "        text-align: right;\n",
       "    }\n",
       "</style>\n",
       "<table border=\"1\" class=\"dataframe\">\n",
       "  <thead>\n",
       "    <tr style=\"text-align: right;\">\n",
       "      <th></th>\n",
       "      <th>Country Name</th>\n",
       "      <th>Country Code</th>\n",
       "      <th>Indicator Name</th>\n",
       "      <th>Indicator Code</th>\n",
       "      <th>2009</th>\n",
       "      <th>2010</th>\n",
       "      <th>GDP_change</th>\n",
       "    </tr>\n",
       "  </thead>\n",
       "  <tbody>\n",
       "    <tr>\n",
       "      <th>0</th>\n",
       "      <td>Aruba</td>\n",
       "      <td>ABW</td>\n",
       "      <td>GDP (current US$)</td>\n",
       "      <td>NY.GDP.MKTP.CD</td>\n",
       "      <td>2.498883e+09</td>\n",
       "      <td>2.390503e+09</td>\n",
       "      <td>-4.337134</td>\n",
       "    </tr>\n",
       "    <tr>\n",
       "      <th>3</th>\n",
       "      <td>Albania</td>\n",
       "      <td>ALB</td>\n",
       "      <td>GDP (current US$)</td>\n",
       "      <td>NY.GDP.MKTP.CD</td>\n",
       "      <td>1.204421e+10</td>\n",
       "      <td>1.192696e+10</td>\n",
       "      <td>-0.973504</td>\n",
       "    </tr>\n",
       "    <tr>\n",
       "      <th>4</th>\n",
       "      <td>Andorra</td>\n",
       "      <td>AND</td>\n",
       "      <td>GDP (current US$)</td>\n",
       "      <td>NY.GDP.MKTP.CD</td>\n",
       "      <td>3.660531e+09</td>\n",
       "      <td>3.355695e+09</td>\n",
       "      <td>-8.327627</td>\n",
       "    </tr>\n",
       "    <tr>\n",
       "      <th>9</th>\n",
       "      <td>American Samoa</td>\n",
       "      <td>ASM</td>\n",
       "      <td>GDP (current US$)</td>\n",
       "      <td>NY.GDP.MKTP.CD</td>\n",
       "      <td>6.780000e+08</td>\n",
       "      <td>5.760000e+08</td>\n",
       "      <td>-15.044248</td>\n",
       "    </tr>\n",
       "    <tr>\n",
       "      <th>10</th>\n",
       "      <td>Antigua and Barbuda</td>\n",
       "      <td>ATG</td>\n",
       "      <td>GDP (current US$)</td>\n",
       "      <td>NY.GDP.MKTP.CD</td>\n",
       "      <td>1.224253e+09</td>\n",
       "      <td>1.152469e+09</td>\n",
       "      <td>-5.863489</td>\n",
       "    </tr>\n",
       "    <tr>\n",
       "      <th>12</th>\n",
       "      <td>Austria</td>\n",
       "      <td>AUT</td>\n",
       "      <td>GDP (current US$)</td>\n",
       "      <td>NY.GDP.MKTP.CD</td>\n",
       "      <td>4.001723e+11</td>\n",
       "      <td>3.918927e+11</td>\n",
       "      <td>-2.068997</td>\n",
       "    </tr>\n",
       "    <tr>\n",
       "      <th>15</th>\n",
       "      <td>Belgium</td>\n",
       "      <td>BEL</td>\n",
       "      <td>GDP (current US$)</td>\n",
       "      <td>NY.GDP.MKTP.CD</td>\n",
       "      <td>4.845528e+11</td>\n",
       "      <td>4.835480e+11</td>\n",
       "      <td>-0.207358</td>\n",
       "    </tr>\n",
       "    <tr>\n",
       "      <th>16</th>\n",
       "      <td>Benin</td>\n",
       "      <td>BEN</td>\n",
       "      <td>GDP (current US$)</td>\n",
       "      <td>NY.GDP.MKTP.CD</td>\n",
       "      <td>7.097199e+09</td>\n",
       "      <td>6.970241e+09</td>\n",
       "      <td>-1.788844</td>\n",
       "    </tr>\n",
       "    <tr>\n",
       "      <th>19</th>\n",
       "      <td>Bulgaria</td>\n",
       "      <td>BGR</td>\n",
       "      <td>GDP (current US$)</td>\n",
       "      <td>NY.GDP.MKTP.CD</td>\n",
       "      <td>5.188448e+10</td>\n",
       "      <td>5.061006e+10</td>\n",
       "      <td>-2.456270</td>\n",
       "    </tr>\n",
       "    <tr>\n",
       "      <th>22</th>\n",
       "      <td>Bosnia and Herzegovina</td>\n",
       "      <td>BIH</td>\n",
       "      <td>GDP (current US$)</td>\n",
       "      <td>NY.GDP.MKTP.CD</td>\n",
       "      <td>1.761384e+10</td>\n",
       "      <td>1.717678e+10</td>\n",
       "      <td>-2.481316</td>\n",
       "    </tr>\n",
       "    <tr>\n",
       "      <th>25</th>\n",
       "      <td>Bermuda</td>\n",
       "      <td>BMU</td>\n",
       "      <td>GDP (current US$)</td>\n",
       "      <td>NY.GDP.MKTP.CD</td>\n",
       "      <td>5.806378e+09</td>\n",
       "      <td>5.744414e+09</td>\n",
       "      <td>-1.067171</td>\n",
       "    </tr>\n",
       "    <tr>\n",
       "      <th>45</th>\n",
       "      <td>Cabo Verde</td>\n",
       "      <td>CPV</td>\n",
       "      <td>GDP (current US$)</td>\n",
       "      <td>NY.GDP.MKTP.CD</td>\n",
       "      <td>1.711817e+09</td>\n",
       "      <td>1.664311e+09</td>\n",
       "      <td>-2.775204</td>\n",
       "    </tr>\n",
       "    <tr>\n",
       "      <th>51</th>\n",
       "      <td>Cyprus</td>\n",
       "      <td>CYP</td>\n",
       "      <td>GDP (current US$)</td>\n",
       "      <td>NY.GDP.MKTP.CD</td>\n",
       "      <td>2.594266e+10</td>\n",
       "      <td>2.556226e+10</td>\n",
       "      <td>-1.466309</td>\n",
       "    </tr>\n",
       "    <tr>\n",
       "      <th>53</th>\n",
       "      <td>Germany</td>\n",
       "      <td>DEU</td>\n",
       "      <td>GDP (current US$)</td>\n",
       "      <td>NY.GDP.MKTP.CD</td>\n",
       "      <td>3.418005e+12</td>\n",
       "      <td>3.417095e+12</td>\n",
       "      <td>-0.026637</td>\n",
       "    </tr>\n",
       "    <tr>\n",
       "      <th>66</th>\n",
       "      <td>Euro area</td>\n",
       "      <td>EMU</td>\n",
       "      <td>GDP (current US$)</td>\n",
       "      <td>NY.GDP.MKTP.CD</td>\n",
       "      <td>1.290500e+13</td>\n",
       "      <td>1.264103e+13</td>\n",
       "      <td>-2.045495</td>\n",
       "    </tr>\n",
       "    <tr>\n",
       "      <th>68</th>\n",
       "      <td>Spain</td>\n",
       "      <td>ESP</td>\n",
       "      <td>GDP (current US$)</td>\n",
       "      <td>NY.GDP.MKTP.CD</td>\n",
       "      <td>1.499100e+12</td>\n",
       "      <td>1.431617e+12</td>\n",
       "      <td>-4.501568</td>\n",
       "    </tr>\n",
       "    <tr>\n",
       "      <th>69</th>\n",
       "      <td>Estonia</td>\n",
       "      <td>EST</td>\n",
       "      <td>GDP (current US$)</td>\n",
       "      <td>NY.GDP.MKTP.CD</td>\n",
       "      <td>1.965249e+10</td>\n",
       "      <td>1.949094e+10</td>\n",
       "      <td>-0.822065</td>\n",
       "    </tr>\n",
       "    <tr>\n",
       "      <th>70</th>\n",
       "      <td>Ethiopia</td>\n",
       "      <td>ETH</td>\n",
       "      <td>GDP (current US$)</td>\n",
       "      <td>NY.GDP.MKTP.CD</td>\n",
       "      <td>3.243739e+10</td>\n",
       "      <td>2.993379e+10</td>\n",
       "      <td>-7.718250</td>\n",
       "    </tr>\n",
       "    <tr>\n",
       "      <th>71</th>\n",
       "      <td>European Union</td>\n",
       "      <td>EUU</td>\n",
       "      <td>GDP (current US$)</td>\n",
       "      <td>NY.GDP.MKTP.CD</td>\n",
       "      <td>1.710254e+13</td>\n",
       "      <td>1.698691e+13</td>\n",
       "      <td>-0.676109</td>\n",
       "    </tr>\n",
       "    <tr>\n",
       "      <th>73</th>\n",
       "      <td>Finland</td>\n",
       "      <td>FIN</td>\n",
       "      <td>GDP (current US$)</td>\n",
       "      <td>NY.GDP.MKTP.CD</td>\n",
       "      <td>2.514990e+11</td>\n",
       "      <td>2.477998e+11</td>\n",
       "      <td>-1.470865</td>\n",
       "    </tr>\n",
       "    <tr>\n",
       "      <th>75</th>\n",
       "      <td>France</td>\n",
       "      <td>FRA</td>\n",
       "      <td>GDP (current US$)</td>\n",
       "      <td>NY.GDP.MKTP.CD</td>\n",
       "      <td>2.690222e+12</td>\n",
       "      <td>2.642610e+12</td>\n",
       "      <td>-1.769844</td>\n",
       "    </tr>\n",
       "    <tr>\n",
       "      <th>87</th>\n",
       "      <td>Greece</td>\n",
       "      <td>GRC</td>\n",
       "      <td>GDP (current US$)</td>\n",
       "      <td>NY.GDP.MKTP.CD</td>\n",
       "      <td>3.300003e+11</td>\n",
       "      <td>2.993616e+11</td>\n",
       "      <td>-9.284440</td>\n",
       "    </tr>\n",
       "    <tr>\n",
       "      <th>88</th>\n",
       "      <td>Grenada</td>\n",
       "      <td>GRD</td>\n",
       "      <td>GDP (current US$)</td>\n",
       "      <td>NY.GDP.MKTP.CD</td>\n",
       "      <td>7.712756e+08</td>\n",
       "      <td>7.710133e+08</td>\n",
       "      <td>-0.034008</td>\n",
       "    </tr>\n",
       "    <tr>\n",
       "      <th>89</th>\n",
       "      <td>Greenland</td>\n",
       "      <td>GRL</td>\n",
       "      <td>GDP (current US$)</td>\n",
       "      <td>NY.GDP.MKTP.CD</td>\n",
       "      <td>2.529948e+09</td>\n",
       "      <td>2.503156e+09</td>\n",
       "      <td>-1.059005</td>\n",
       "    </tr>\n",
       "    <tr>\n",
       "      <th>97</th>\n",
       "      <td>Croatia</td>\n",
       "      <td>HRV</td>\n",
       "      <td>GDP (current US$)</td>\n",
       "      <td>NY.GDP.MKTP.CD</td>\n",
       "      <td>6.275416e+10</td>\n",
       "      <td>5.984421e+10</td>\n",
       "      <td>-4.637068</td>\n",
       "    </tr>\n",
       "    <tr>\n",
       "      <th>109</th>\n",
       "      <td>Ireland</td>\n",
       "      <td>IRL</td>\n",
       "      <td>GDP (current US$)</td>\n",
       "      <td>NY.GDP.MKTP.CD</td>\n",
       "      <td>2.363113e+11</td>\n",
       "      <td>2.219514e+11</td>\n",
       "      <td>-6.076721</td>\n",
       "    </tr>\n",
       "    <tr>\n",
       "      <th>114</th>\n",
       "      <td>Italy</td>\n",
       "      <td>ITA</td>\n",
       "      <td>GDP (current US$)</td>\n",
       "      <td>NY.GDP.MKTP.CD</td>\n",
       "      <td>2.185160e+12</td>\n",
       "      <td>2.125058e+12</td>\n",
       "      <td>-2.750459</td>\n",
       "    </tr>\n",
       "    <tr>\n",
       "      <th>123</th>\n",
       "      <td>St. Kitts and Nevis</td>\n",
       "      <td>KNA</td>\n",
       "      <td>GDP (current US$)</td>\n",
       "      <td>NY.GDP.MKTP.CD</td>\n",
       "      <td>7.670664e+08</td>\n",
       "      <td>7.667851e+08</td>\n",
       "      <td>-0.036675</td>\n",
       "    </tr>\n",
       "    <tr>\n",
       "      <th>141</th>\n",
       "      <td>Lithuania</td>\n",
       "      <td>LTU</td>\n",
       "      <td>GDP (current US$)</td>\n",
       "      <td>NY.GDP.MKTP.CD</td>\n",
       "      <td>3.744067e+10</td>\n",
       "      <td>3.712052e+10</td>\n",
       "      <td>-0.855102</td>\n",
       "    </tr>\n",
       "    <tr>\n",
       "      <th>143</th>\n",
       "      <td>Latvia</td>\n",
       "      <td>LVA</td>\n",
       "      <td>GDP (current US$)</td>\n",
       "      <td>NY.GDP.MKTP.CD</td>\n",
       "      <td>2.616985e+10</td>\n",
       "      <td>2.375737e+10</td>\n",
       "      <td>-9.218568</td>\n",
       "    </tr>\n",
       "    <tr>\n",
       "      <th>147</th>\n",
       "      <td>Monaco</td>\n",
       "      <td>MCO</td>\n",
       "      <td>GDP (current US$)</td>\n",
       "      <td>NY.GDP.MKTP.CD</td>\n",
       "      <td>5.451653e+09</td>\n",
       "      <td>5.362649e+09</td>\n",
       "      <td>-1.632610</td>\n",
       "    </tr>\n",
       "    <tr>\n",
       "      <th>160</th>\n",
       "      <td>Montenegro</td>\n",
       "      <td>MNE</td>\n",
       "      <td>GDP (current US$)</td>\n",
       "      <td>NY.GDP.MKTP.CD</td>\n",
       "      <td>4.159330e+09</td>\n",
       "      <td>4.139192e+09</td>\n",
       "      <td>-0.484172</td>\n",
       "    </tr>\n",
       "    <tr>\n",
       "      <th>163</th>\n",
       "      <td>Mozambique</td>\n",
       "      <td>MOZ</td>\n",
       "      <td>GDP (current US$)</td>\n",
       "      <td>NY.GDP.MKTP.CD</td>\n",
       "      <td>1.091170e+10</td>\n",
       "      <td>1.015424e+10</td>\n",
       "      <td>-6.941724</td>\n",
       "    </tr>\n",
       "    <tr>\n",
       "      <th>174</th>\n",
       "      <td>Netherlands</td>\n",
       "      <td>NLD</td>\n",
       "      <td>GDP (current US$)</td>\n",
       "      <td>NY.GDP.MKTP.CD</td>\n",
       "      <td>8.579328e+11</td>\n",
       "      <td>8.363899e+11</td>\n",
       "      <td>-2.511015</td>\n",
       "    </tr>\n",
       "    <tr>\n",
       "      <th>192</th>\n",
       "      <td>Portugal</td>\n",
       "      <td>PRT</td>\n",
       "      <td>GDP (current US$)</td>\n",
       "      <td>NY.GDP.MKTP.CD</td>\n",
       "      <td>2.437457e+11</td>\n",
       "      <td>2.383034e+11</td>\n",
       "      <td>-2.232780</td>\n",
       "    </tr>\n",
       "    <tr>\n",
       "      <th>199</th>\n",
       "      <td>Romania</td>\n",
       "      <td>ROU</td>\n",
       "      <td>GDP (current US$)</td>\n",
       "      <td>NY.GDP.MKTP.CD</td>\n",
       "      <td>1.726118e+11</td>\n",
       "      <td>1.662252e+11</td>\n",
       "      <td>-3.700016</td>\n",
       "    </tr>\n",
       "    <tr>\n",
       "      <th>205</th>\n",
       "      <td>Senegal</td>\n",
       "      <td>SEN</td>\n",
       "      <td>GDP (current US$)</td>\n",
       "      <td>NY.GDP.MKTP.CD</td>\n",
       "      <td>1.624821e+10</td>\n",
       "      <td>1.621507e+10</td>\n",
       "      <td>-0.203983</td>\n",
       "    </tr>\n",
       "    <tr>\n",
       "      <th>210</th>\n",
       "      <td>San Marino</td>\n",
       "      <td>SMR</td>\n",
       "      <td>GDP (current US$)</td>\n",
       "      <td>NY.GDP.MKTP.CD</td>\n",
       "      <td>2.363156e+09</td>\n",
       "      <td>2.139073e+09</td>\n",
       "      <td>-9.482385</td>\n",
       "    </tr>\n",
       "    <tr>\n",
       "      <th>212</th>\n",
       "      <td>Serbia</td>\n",
       "      <td>SRB</td>\n",
       "      <td>GDP (current US$)</td>\n",
       "      <td>NY.GDP.MKTP.CD</td>\n",
       "      <td>4.261665e+10</td>\n",
       "      <td>3.946036e+10</td>\n",
       "      <td>-7.406249</td>\n",
       "    </tr>\n",
       "    <tr>\n",
       "      <th>220</th>\n",
       "      <td>Slovenia</td>\n",
       "      <td>SVN</td>\n",
       "      <td>GDP (current US$)</td>\n",
       "      <td>NY.GDP.MKTP.CD</td>\n",
       "      <td>5.024479e+10</td>\n",
       "      <td>4.801361e+10</td>\n",
       "      <td>-4.440633</td>\n",
       "    </tr>\n",
       "  </tbody>\n",
       "</table>\n",
       "</div>"
      ],
      "text/plain": [
       "               Country Name Country Code     Indicator Name  Indicator Code  \\\n",
       "0                     Aruba          ABW  GDP (current US$)  NY.GDP.MKTP.CD   \n",
       "3                   Albania          ALB  GDP (current US$)  NY.GDP.MKTP.CD   \n",
       "4                   Andorra          AND  GDP (current US$)  NY.GDP.MKTP.CD   \n",
       "9            American Samoa          ASM  GDP (current US$)  NY.GDP.MKTP.CD   \n",
       "10      Antigua and Barbuda          ATG  GDP (current US$)  NY.GDP.MKTP.CD   \n",
       "12                  Austria          AUT  GDP (current US$)  NY.GDP.MKTP.CD   \n",
       "15                  Belgium          BEL  GDP (current US$)  NY.GDP.MKTP.CD   \n",
       "16                    Benin          BEN  GDP (current US$)  NY.GDP.MKTP.CD   \n",
       "19                 Bulgaria          BGR  GDP (current US$)  NY.GDP.MKTP.CD   \n",
       "22   Bosnia and Herzegovina          BIH  GDP (current US$)  NY.GDP.MKTP.CD   \n",
       "25                  Bermuda          BMU  GDP (current US$)  NY.GDP.MKTP.CD   \n",
       "45               Cabo Verde          CPV  GDP (current US$)  NY.GDP.MKTP.CD   \n",
       "51                   Cyprus          CYP  GDP (current US$)  NY.GDP.MKTP.CD   \n",
       "53                  Germany          DEU  GDP (current US$)  NY.GDP.MKTP.CD   \n",
       "66                Euro area          EMU  GDP (current US$)  NY.GDP.MKTP.CD   \n",
       "68                    Spain          ESP  GDP (current US$)  NY.GDP.MKTP.CD   \n",
       "69                  Estonia          EST  GDP (current US$)  NY.GDP.MKTP.CD   \n",
       "70                 Ethiopia          ETH  GDP (current US$)  NY.GDP.MKTP.CD   \n",
       "71           European Union          EUU  GDP (current US$)  NY.GDP.MKTP.CD   \n",
       "73                  Finland          FIN  GDP (current US$)  NY.GDP.MKTP.CD   \n",
       "75                   France          FRA  GDP (current US$)  NY.GDP.MKTP.CD   \n",
       "87                   Greece          GRC  GDP (current US$)  NY.GDP.MKTP.CD   \n",
       "88                  Grenada          GRD  GDP (current US$)  NY.GDP.MKTP.CD   \n",
       "89                Greenland          GRL  GDP (current US$)  NY.GDP.MKTP.CD   \n",
       "97                  Croatia          HRV  GDP (current US$)  NY.GDP.MKTP.CD   \n",
       "109                 Ireland          IRL  GDP (current US$)  NY.GDP.MKTP.CD   \n",
       "114                   Italy          ITA  GDP (current US$)  NY.GDP.MKTP.CD   \n",
       "123     St. Kitts and Nevis          KNA  GDP (current US$)  NY.GDP.MKTP.CD   \n",
       "141               Lithuania          LTU  GDP (current US$)  NY.GDP.MKTP.CD   \n",
       "143                  Latvia          LVA  GDP (current US$)  NY.GDP.MKTP.CD   \n",
       "147                  Monaco          MCO  GDP (current US$)  NY.GDP.MKTP.CD   \n",
       "160              Montenegro          MNE  GDP (current US$)  NY.GDP.MKTP.CD   \n",
       "163              Mozambique          MOZ  GDP (current US$)  NY.GDP.MKTP.CD   \n",
       "174             Netherlands          NLD  GDP (current US$)  NY.GDP.MKTP.CD   \n",
       "192                Portugal          PRT  GDP (current US$)  NY.GDP.MKTP.CD   \n",
       "199                 Romania          ROU  GDP (current US$)  NY.GDP.MKTP.CD   \n",
       "205                 Senegal          SEN  GDP (current US$)  NY.GDP.MKTP.CD   \n",
       "210              San Marino          SMR  GDP (current US$)  NY.GDP.MKTP.CD   \n",
       "212                  Serbia          SRB  GDP (current US$)  NY.GDP.MKTP.CD   \n",
       "220                Slovenia          SVN  GDP (current US$)  NY.GDP.MKTP.CD   \n",
       "\n",
       "             2009          2010  GDP_change  \n",
       "0    2.498883e+09  2.390503e+09   -4.337134  \n",
       "3    1.204421e+10  1.192696e+10   -0.973504  \n",
       "4    3.660531e+09  3.355695e+09   -8.327627  \n",
       "9    6.780000e+08  5.760000e+08  -15.044248  \n",
       "10   1.224253e+09  1.152469e+09   -5.863489  \n",
       "12   4.001723e+11  3.918927e+11   -2.068997  \n",
       "15   4.845528e+11  4.835480e+11   -0.207358  \n",
       "16   7.097199e+09  6.970241e+09   -1.788844  \n",
       "19   5.188448e+10  5.061006e+10   -2.456270  \n",
       "22   1.761384e+10  1.717678e+10   -2.481316  \n",
       "25   5.806378e+09  5.744414e+09   -1.067171  \n",
       "45   1.711817e+09  1.664311e+09   -2.775204  \n",
       "51   2.594266e+10  2.556226e+10   -1.466309  \n",
       "53   3.418005e+12  3.417095e+12   -0.026637  \n",
       "66   1.290500e+13  1.264103e+13   -2.045495  \n",
       "68   1.499100e+12  1.431617e+12   -4.501568  \n",
       "69   1.965249e+10  1.949094e+10   -0.822065  \n",
       "70   3.243739e+10  2.993379e+10   -7.718250  \n",
       "71   1.710254e+13  1.698691e+13   -0.676109  \n",
       "73   2.514990e+11  2.477998e+11   -1.470865  \n",
       "75   2.690222e+12  2.642610e+12   -1.769844  \n",
       "87   3.300003e+11  2.993616e+11   -9.284440  \n",
       "88   7.712756e+08  7.710133e+08   -0.034008  \n",
       "89   2.529948e+09  2.503156e+09   -1.059005  \n",
       "97   6.275416e+10  5.984421e+10   -4.637068  \n",
       "109  2.363113e+11  2.219514e+11   -6.076721  \n",
       "114  2.185160e+12  2.125058e+12   -2.750459  \n",
       "123  7.670664e+08  7.667851e+08   -0.036675  \n",
       "141  3.744067e+10  3.712052e+10   -0.855102  \n",
       "143  2.616985e+10  2.375737e+10   -9.218568  \n",
       "147  5.451653e+09  5.362649e+09   -1.632610  \n",
       "160  4.159330e+09  4.139192e+09   -0.484172  \n",
       "163  1.091170e+10  1.015424e+10   -6.941724  \n",
       "174  8.579328e+11  8.363899e+11   -2.511015  \n",
       "192  2.437457e+11  2.383034e+11   -2.232780  \n",
       "199  1.726118e+11  1.662252e+11   -3.700016  \n",
       "205  1.624821e+10  1.621507e+10   -0.203983  \n",
       "210  2.363156e+09  2.139073e+09   -9.482385  \n",
       "212  4.261665e+10  3.946036e+10   -7.406249  \n",
       "220  5.024479e+10  4.801361e+10   -4.440633  "
      ]
     },
     "execution_count": 11,
     "metadata": {},
     "output_type": "execute_result"
    }
   ],
   "source": [
    "# df which will contain only negative changes\n",
    "worldbank_with_negative_change = worldbank_1[worldbank_1['GDP_change'] < 0]\n",
    "worldbank_with_negative_change"
   ]
  },
  {
   "cell_type": "code",
   "execution_count": null,
   "metadata": {},
   "outputs": [],
   "source": []
  },
  {
   "cell_type": "code",
   "execution_count": 13,
   "metadata": {},
   "outputs": [
    {
     "data": {
      "application/vnd.plotly.v1+json": {
       "config": {
        "plotlyServerURL": "https://plot.ly"
       },
       "data": [
        {
         "colorscale": [
          [
           0,
           "rgb(255,245,240)"
          ],
          [
           0.125,
           "rgb(254,224,210)"
          ],
          [
           0.25,
           "rgb(252,187,161)"
          ],
          [
           0.375,
           "rgb(252,146,114)"
          ],
          [
           0.5,
           "rgb(251,106,74)"
          ],
          [
           0.625,
           "rgb(239,59,44)"
          ],
          [
           0.75,
           "rgb(203,24,29)"
          ],
          [
           0.875,
           "rgb(165,15,21)"
          ],
          [
           1,
           "rgb(103,0,13)"
          ]
         ],
         "locations": [
          "AFG",
          "AGO",
          "ARB",
          "ARE",
          "ARG",
          "ARM",
          "AUS",
          "AZE",
          "BDI",
          "BFA",
          "BGD",
          "BHR",
          "BHS",
          "BLR",
          "BLZ",
          "BOL",
          "BRA",
          "BRB",
          "BRN",
          "BTN",
          "BWA",
          "CAF",
          "CAN",
          "CEB",
          "CHE",
          "CHL",
          "CHN",
          "CIV",
          "CMR",
          "COD",
          "COG",
          "COL",
          "COM",
          "CRI",
          "CSS",
          "CUB",
          "CZE",
          "DJI",
          "DMA",
          "DNK",
          "DOM",
          "DZA",
          "EAP",
          "EAR",
          "EAS",
          "ECA",
          "ECS",
          "ECU",
          "EGY",
          "ERI",
          "FCS",
          "FJI",
          "FRO",
          "FSM",
          "GAB",
          "GBR",
          "GEO",
          "GHA",
          "GIN",
          "GMB",
          "GNB",
          "GNQ",
          "GTM",
          "GUM",
          "GUY",
          "HIC",
          "HKG",
          "HND",
          "HPC",
          "HTI",
          "HUN",
          "IBD",
          "IBT",
          "IDA",
          "IDB",
          "IDN",
          "IDX",
          "IMN",
          "IND",
          "IRN",
          "IRQ",
          "ISL",
          "ISR",
          "JAM",
          "JOR",
          "JPN",
          "KAZ",
          "KEN",
          "KGZ",
          "KHM",
          "KIR",
          "KOR",
          "KWT",
          "LAC",
          "LAO",
          "LBN",
          "LBR",
          "LBY",
          "LCA",
          "LCN",
          "LDC",
          "LIC",
          "LIE",
          "LKA",
          "LMC",
          "LMY",
          "LSO",
          "LTE",
          "LUX",
          "MAC",
          "MAR",
          "MDA",
          "MDG",
          "MDV",
          "MEA",
          "MEX",
          "MHL",
          "MIC",
          "MKD",
          "MLI",
          "MLT",
          "MMR",
          "MNA",
          "MNG",
          "MNP",
          "MRT",
          "MUS",
          "MWI",
          "MYS",
          "NAC",
          "NAM",
          "NER",
          "NGA",
          "NIC",
          "NOR",
          "NPL",
          "NRU",
          "NZL",
          "OED",
          "OMN",
          "OSS",
          "PAK",
          "PAN",
          "PER",
          "PHL",
          "PLW",
          "PNG",
          "POL",
          "PRE",
          "PRI",
          "PRY",
          "PSE",
          "PSS",
          "PST",
          "QAT",
          "RUS",
          "RWA",
          "SAS",
          "SAU",
          "SDN",
          "SGP",
          "SLB",
          "SLE",
          "SLV",
          "SSA",
          "SSF",
          "SST",
          "STP",
          "SUR",
          "SVK",
          "SWE",
          "SWZ",
          "SYC",
          "TCD",
          "TEA",
          "TEC",
          "TGO",
          "THA",
          "TJK",
          "TKM",
          "TLA",
          "TLS",
          "TMN",
          "TON",
          "TSA",
          "TSS",
          "TTO",
          "TUN",
          "TUR",
          "TUV",
          "TZA",
          "UGA",
          "UKR",
          "UMC",
          "URY",
          "USA",
          "UZB",
          "VCT",
          "VEN",
          "VIR",
          "VNM",
          "VUT",
          "WLD",
          "WSM",
          "XKX",
          "YEM",
          "ZAF",
          "ZMB",
          "ZWE"
         ],
         "reversescale": true,
         "showscale": false,
         "type": "choropleth",
         "z": [
          27.473781906852828,
          19.190552182097143,
          17.466456225207995,
          14.293179687208596,
          27.224426262371605,
          7.0808587950566855,
          23.510466972225323,
          19.44213860009744,
          14.07165162594452,
          7.298110394454249,
          12.491766078199465,
          12.097945800293527,
          1.1400566622186425,
          15.314303869539762,
          4.607054655889396,
          13.320262594329385,
          32.50422529268725,
          1.1149678009799218,
          27.719930269403193,
          25.357759028985505,
          24.53967572568895,
          0.21613775021895798,
          17.672091804742557,
          2.0172403184909378,
          7.807196667177991,
          26.769642693910832,
          19.38700339305618,
          2.500304092105871,
          0.48387008237320334,
          15.643974319710127,
          25.16634635660194,
          23.05843746890566,
          0.5968304021887482,
          21.942919060308373,
          8.77843399425061,
          3.621134020618557,
          0.6294867915363915,
          7.577943566337288,
          0.9712376525055905,
          0.23470023526254125,
          11.588942034223058,
          17.488555421636306,
          21.287542621306823,
          21.488612683256417,
          16.599013080573872,
          19.120698669059387,
          2.3212793452287985,
          11.253545003409005,
          15.824729608406512,
          14.021898248456043,
          19.095349347845623,
          9.401584481428362,
          1.9531614314491759,
          5.914489116027013,
          19.008866501977806,
          2.448664305838237,
          8.096435609434574,
          23.854651804351732,
          2.0331284813626325,
          5.681166854886319,
          2.6912800928359015,
          8.455976676088985,
          9.552240585398101,
          2.384438402007948,
          10.279805627967892,
          4.954506309295505,
          6.816877800577922,
          8.581653377218208,
          10.48899916748321,
          0.5754613020767883,
          0.25167938498709386,
          21.492738873123887,
          21.05210313531988,
          15.003098066911527,
          16.63373724911431,
          39.94107278923618,
          13.336014132927549,
          7.8929729819388355,
          25.127777913086867,
          17.63286361906544,
          24.051282427095586,
          2.831040007025792,
          12.626666361806258,
          9.3872783365832,
          10.936709832859302,
          8.959685599507651,
          28.392218566423104,
          8.045528486413001,
          2.223755981810455,
          8.079555068054065,
          17.8982218445996,
          21.350141118230145,
          8.988788178786475,
          24.448836749742753,
          22.199486132783942,
          8.293550136136211,
          13.009049773755658,
          18.63467734453445,
          9.437372677847149,
          24.007486480280747,
          14.555306937123975,
          8.98219190433979,
          12.827415938500614,
          34.848703050217225,
          22.61915524406623,
          21.238210086202177,
          33.18374426068683,
          19.969902770778834,
          3.585583275705694,
          30.956736180210896,
          0.34384876171655054,
          6.842308216256611,
          2.100169787880878,
          10.356104141808608,
          16.87488806638482,
          17.527555119404123,
          8.093174111749963,
          21.44779153886168,
          0.05783197187843987,
          4.88877941978854,
          2.4959225554158393,
          34.23446016075607,
          15.688049981869051,
          56.84372846103006,
          0.5031446540880503,
          18.445025508303285,
          9.583115524423926,
          12.413375191970182,
          26.085065059326283,
          4.987955801139695,
          27.106237929552258,
          6.431431184165409,
          24.48939010450871,
          5.542162661998315,
          10.994833408114586,
          24.485994007495766,
          11.193840800395355,
          20.80558448075627,
          4.763070262423919,
          21.191273454338145,
          16.230210017299964,
          5.503375853462254,
          8.569101396929934,
          22.10336896659265,
          18.5678842592157,
          0.08686166663838782,
          22.64447568543054,
          8.972730304927577,
          18.17531426262387,
          2.0705375076774954,
          21.816612918846474,
          22.631463085770893,
          11.076659960271826,
          4.275140703644617,
          27.939074879349423,
          24.722905152600685,
          7.327832382272091,
          22.606491306421706,
          23.097139611351952,
          23.48796037546215,
          22.8749873786768,
          13.949592184044116,
          5.058333999800751,
          4.808117618291412,
          19.203637330625554,
          19.20009370552298,
          14.879617382919877,
          5.128831505985309,
          12.716692743090368,
          0.6244126577195305,
          13.666867276081495,
          23.973781303488483,
          14.460583678688673,
          15.175056352140547,
          21.290743199503705,
          17.20121055877224,
          1.7919065274198458,
          21.08370083002016,
          13.308544982156759,
          11.718248251201716,
          24.94564829633508,
          24.981247655956995,
          15.6436557093732,
          16.129487518785073,
          22.606491306421706,
          19.20009370552298,
          15.569905957892752,
          1.3715201903001344,
          19.74152757163223,
          17.425294469261793,
          9.924560011950996,
          11.104657596578898,
          16.137986165583655,
          21.110036261320943,
          27.23727785159888,
          3.7841936108282423,
          16.751787783595347,
          0.9339563660178638,
          19.22592602645289,
          3.2357839638353556,
          9.354451496154857,
          14.873401242366386,
          9.455919605509687,
          14.633356150458113,
          3.1248201818164447,
          22.986121760581653,
          26.83445969195684,
          32.209705861995275,
          24.580102494018778
         ]
        },
        {
         "colorscale": [
          [
           0,
           "rgb(247,251,255)"
          ],
          [
           0.125,
           "rgb(222,235,247)"
          ],
          [
           0.25,
           "rgb(198,219,239)"
          ],
          [
           0.375,
           "rgb(158,202,225)"
          ],
          [
           0.5,
           "rgb(107,174,214)"
          ],
          [
           0.625,
           "rgb(66,146,198)"
          ],
          [
           0.75,
           "rgb(33,113,181)"
          ],
          [
           0.875,
           "rgb(8,81,156)"
          ],
          [
           1,
           "rgb(8,48,107)"
          ]
         ],
         "locations": [
          "ABW",
          "ALB",
          "AND",
          "ASM",
          "ATG",
          "AUT",
          "BEL",
          "BEN",
          "BGR",
          "BIH",
          "BMU",
          "CPV",
          "CYP",
          "DEU",
          "EMU",
          "ESP",
          "EST",
          "ETH",
          "EUU",
          "FIN",
          "FRA",
          "GRC",
          "GRD",
          "GRL",
          "HRV",
          "IRL",
          "ITA",
          "KNA",
          "LTU",
          "LVA",
          "MCO",
          "MNE",
          "MOZ",
          "NLD",
          "PRT",
          "ROU",
          "SEN",
          "SMR",
          "SRB",
          "SVN"
         ],
         "reversescale": true,
         "showscale": false,
         "type": "choropleth",
         "z": [
          -4.337133914598853,
          -0.9735038650885939,
          -8.327626878994774,
          -15.04424778761062,
          -5.863489358953189,
          -2.068996619729266,
          -0.20735846762384558,
          -1.7888440393202063,
          -2.456270478918608,
          -2.4813156429069494,
          -1.0671713071384603,
          -2.775203595920684,
          -1.4663093935818583,
          -0.026636553777708648,
          -2.0454948012710963,
          -4.501568377513023,
          -0.8220651224945493,
          -7.718249988431852,
          -0.6761087165820705,
          -1.4708652259308013,
          -1.769843901790406,
          -9.284440055796974,
          -0.034008117385111045,
          -1.0590045944071689,
          -4.637068270755847,
          -6.076721470320241,
          -2.7504591928023845,
          -0.03667486635765278,
          -0.85510156280975,
          -9.218567863581452,
          -1.6326098986547002,
          -0.4841720848724782,
          -6.941723827879244,
          -2.5110151864533528,
          -2.2327796157564075,
          -3.7000155919209727,
          -0.20398302833951407,
          -9.482384728889587,
          -7.406249259360903,
          -4.440633379085494
         ]
        }
       ],
       "layout": {
        "geo": {
         "scope": "world"
        },
        "template": {
         "data": {
          "bar": [
           {
            "error_x": {
             "color": "#2a3f5f"
            },
            "error_y": {
             "color": "#2a3f5f"
            },
            "marker": {
             "line": {
              "color": "#E5ECF6",
              "width": 0.5
             }
            },
            "type": "bar"
           }
          ],
          "barpolar": [
           {
            "marker": {
             "line": {
              "color": "#E5ECF6",
              "width": 0.5
             }
            },
            "type": "barpolar"
           }
          ],
          "carpet": [
           {
            "aaxis": {
             "endlinecolor": "#2a3f5f",
             "gridcolor": "white",
             "linecolor": "white",
             "minorgridcolor": "white",
             "startlinecolor": "#2a3f5f"
            },
            "baxis": {
             "endlinecolor": "#2a3f5f",
             "gridcolor": "white",
             "linecolor": "white",
             "minorgridcolor": "white",
             "startlinecolor": "#2a3f5f"
            },
            "type": "carpet"
           }
          ],
          "choropleth": [
           {
            "colorbar": {
             "outlinewidth": 0,
             "ticks": ""
            },
            "type": "choropleth"
           }
          ],
          "contour": [
           {
            "colorbar": {
             "outlinewidth": 0,
             "ticks": ""
            },
            "colorscale": [
             [
              0,
              "#0d0887"
             ],
             [
              0.1111111111111111,
              "#46039f"
             ],
             [
              0.2222222222222222,
              "#7201a8"
             ],
             [
              0.3333333333333333,
              "#9c179e"
             ],
             [
              0.4444444444444444,
              "#bd3786"
             ],
             [
              0.5555555555555556,
              "#d8576b"
             ],
             [
              0.6666666666666666,
              "#ed7953"
             ],
             [
              0.7777777777777778,
              "#fb9f3a"
             ],
             [
              0.8888888888888888,
              "#fdca26"
             ],
             [
              1,
              "#f0f921"
             ]
            ],
            "type": "contour"
           }
          ],
          "contourcarpet": [
           {
            "colorbar": {
             "outlinewidth": 0,
             "ticks": ""
            },
            "type": "contourcarpet"
           }
          ],
          "heatmap": [
           {
            "colorbar": {
             "outlinewidth": 0,
             "ticks": ""
            },
            "colorscale": [
             [
              0,
              "#0d0887"
             ],
             [
              0.1111111111111111,
              "#46039f"
             ],
             [
              0.2222222222222222,
              "#7201a8"
             ],
             [
              0.3333333333333333,
              "#9c179e"
             ],
             [
              0.4444444444444444,
              "#bd3786"
             ],
             [
              0.5555555555555556,
              "#d8576b"
             ],
             [
              0.6666666666666666,
              "#ed7953"
             ],
             [
              0.7777777777777778,
              "#fb9f3a"
             ],
             [
              0.8888888888888888,
              "#fdca26"
             ],
             [
              1,
              "#f0f921"
             ]
            ],
            "type": "heatmap"
           }
          ],
          "heatmapgl": [
           {
            "colorbar": {
             "outlinewidth": 0,
             "ticks": ""
            },
            "colorscale": [
             [
              0,
              "#0d0887"
             ],
             [
              0.1111111111111111,
              "#46039f"
             ],
             [
              0.2222222222222222,
              "#7201a8"
             ],
             [
              0.3333333333333333,
              "#9c179e"
             ],
             [
              0.4444444444444444,
              "#bd3786"
             ],
             [
              0.5555555555555556,
              "#d8576b"
             ],
             [
              0.6666666666666666,
              "#ed7953"
             ],
             [
              0.7777777777777778,
              "#fb9f3a"
             ],
             [
              0.8888888888888888,
              "#fdca26"
             ],
             [
              1,
              "#f0f921"
             ]
            ],
            "type": "heatmapgl"
           }
          ],
          "histogram": [
           {
            "marker": {
             "colorbar": {
              "outlinewidth": 0,
              "ticks": ""
             }
            },
            "type": "histogram"
           }
          ],
          "histogram2d": [
           {
            "colorbar": {
             "outlinewidth": 0,
             "ticks": ""
            },
            "colorscale": [
             [
              0,
              "#0d0887"
             ],
             [
              0.1111111111111111,
              "#46039f"
             ],
             [
              0.2222222222222222,
              "#7201a8"
             ],
             [
              0.3333333333333333,
              "#9c179e"
             ],
             [
              0.4444444444444444,
              "#bd3786"
             ],
             [
              0.5555555555555556,
              "#d8576b"
             ],
             [
              0.6666666666666666,
              "#ed7953"
             ],
             [
              0.7777777777777778,
              "#fb9f3a"
             ],
             [
              0.8888888888888888,
              "#fdca26"
             ],
             [
              1,
              "#f0f921"
             ]
            ],
            "type": "histogram2d"
           }
          ],
          "histogram2dcontour": [
           {
            "colorbar": {
             "outlinewidth": 0,
             "ticks": ""
            },
            "colorscale": [
             [
              0,
              "#0d0887"
             ],
             [
              0.1111111111111111,
              "#46039f"
             ],
             [
              0.2222222222222222,
              "#7201a8"
             ],
             [
              0.3333333333333333,
              "#9c179e"
             ],
             [
              0.4444444444444444,
              "#bd3786"
             ],
             [
              0.5555555555555556,
              "#d8576b"
             ],
             [
              0.6666666666666666,
              "#ed7953"
             ],
             [
              0.7777777777777778,
              "#fb9f3a"
             ],
             [
              0.8888888888888888,
              "#fdca26"
             ],
             [
              1,
              "#f0f921"
             ]
            ],
            "type": "histogram2dcontour"
           }
          ],
          "mesh3d": [
           {
            "colorbar": {
             "outlinewidth": 0,
             "ticks": ""
            },
            "type": "mesh3d"
           }
          ],
          "parcoords": [
           {
            "line": {
             "colorbar": {
              "outlinewidth": 0,
              "ticks": ""
             }
            },
            "type": "parcoords"
           }
          ],
          "pie": [
           {
            "automargin": true,
            "type": "pie"
           }
          ],
          "scatter": [
           {
            "marker": {
             "colorbar": {
              "outlinewidth": 0,
              "ticks": ""
             }
            },
            "type": "scatter"
           }
          ],
          "scatter3d": [
           {
            "line": {
             "colorbar": {
              "outlinewidth": 0,
              "ticks": ""
             }
            },
            "marker": {
             "colorbar": {
              "outlinewidth": 0,
              "ticks": ""
             }
            },
            "type": "scatter3d"
           }
          ],
          "scattercarpet": [
           {
            "marker": {
             "colorbar": {
              "outlinewidth": 0,
              "ticks": ""
             }
            },
            "type": "scattercarpet"
           }
          ],
          "scattergeo": [
           {
            "marker": {
             "colorbar": {
              "outlinewidth": 0,
              "ticks": ""
             }
            },
            "type": "scattergeo"
           }
          ],
          "scattergl": [
           {
            "marker": {
             "colorbar": {
              "outlinewidth": 0,
              "ticks": ""
             }
            },
            "type": "scattergl"
           }
          ],
          "scattermapbox": [
           {
            "marker": {
             "colorbar": {
              "outlinewidth": 0,
              "ticks": ""
             }
            },
            "type": "scattermapbox"
           }
          ],
          "scatterpolar": [
           {
            "marker": {
             "colorbar": {
              "outlinewidth": 0,
              "ticks": ""
             }
            },
            "type": "scatterpolar"
           }
          ],
          "scatterpolargl": [
           {
            "marker": {
             "colorbar": {
              "outlinewidth": 0,
              "ticks": ""
             }
            },
            "type": "scatterpolargl"
           }
          ],
          "scatterternary": [
           {
            "marker": {
             "colorbar": {
              "outlinewidth": 0,
              "ticks": ""
             }
            },
            "type": "scatterternary"
           }
          ],
          "surface": [
           {
            "colorbar": {
             "outlinewidth": 0,
             "ticks": ""
            },
            "colorscale": [
             [
              0,
              "#0d0887"
             ],
             [
              0.1111111111111111,
              "#46039f"
             ],
             [
              0.2222222222222222,
              "#7201a8"
             ],
             [
              0.3333333333333333,
              "#9c179e"
             ],
             [
              0.4444444444444444,
              "#bd3786"
             ],
             [
              0.5555555555555556,
              "#d8576b"
             ],
             [
              0.6666666666666666,
              "#ed7953"
             ],
             [
              0.7777777777777778,
              "#fb9f3a"
             ],
             [
              0.8888888888888888,
              "#fdca26"
             ],
             [
              1,
              "#f0f921"
             ]
            ],
            "type": "surface"
           }
          ],
          "table": [
           {
            "cells": {
             "fill": {
              "color": "#EBF0F8"
             },
             "line": {
              "color": "white"
             }
            },
            "header": {
             "fill": {
              "color": "#C8D4E3"
             },
             "line": {
              "color": "white"
             }
            },
            "type": "table"
           }
          ]
         },
         "layout": {
          "annotationdefaults": {
           "arrowcolor": "#2a3f5f",
           "arrowhead": 0,
           "arrowwidth": 1
          },
          "coloraxis": {
           "colorbar": {
            "outlinewidth": 0,
            "ticks": ""
           }
          },
          "colorscale": {
           "diverging": [
            [
             0,
             "#8e0152"
            ],
            [
             0.1,
             "#c51b7d"
            ],
            [
             0.2,
             "#de77ae"
            ],
            [
             0.3,
             "#f1b6da"
            ],
            [
             0.4,
             "#fde0ef"
            ],
            [
             0.5,
             "#f7f7f7"
            ],
            [
             0.6,
             "#e6f5d0"
            ],
            [
             0.7,
             "#b8e186"
            ],
            [
             0.8,
             "#7fbc41"
            ],
            [
             0.9,
             "#4d9221"
            ],
            [
             1,
             "#276419"
            ]
           ],
           "sequential": [
            [
             0,
             "#0d0887"
            ],
            [
             0.1111111111111111,
             "#46039f"
            ],
            [
             0.2222222222222222,
             "#7201a8"
            ],
            [
             0.3333333333333333,
             "#9c179e"
            ],
            [
             0.4444444444444444,
             "#bd3786"
            ],
            [
             0.5555555555555556,
             "#d8576b"
            ],
            [
             0.6666666666666666,
             "#ed7953"
            ],
            [
             0.7777777777777778,
             "#fb9f3a"
            ],
            [
             0.8888888888888888,
             "#fdca26"
            ],
            [
             1,
             "#f0f921"
            ]
           ],
           "sequentialminus": [
            [
             0,
             "#0d0887"
            ],
            [
             0.1111111111111111,
             "#46039f"
            ],
            [
             0.2222222222222222,
             "#7201a8"
            ],
            [
             0.3333333333333333,
             "#9c179e"
            ],
            [
             0.4444444444444444,
             "#bd3786"
            ],
            [
             0.5555555555555556,
             "#d8576b"
            ],
            [
             0.6666666666666666,
             "#ed7953"
            ],
            [
             0.7777777777777778,
             "#fb9f3a"
            ],
            [
             0.8888888888888888,
             "#fdca26"
            ],
            [
             1,
             "#f0f921"
            ]
           ]
          },
          "colorway": [
           "#636efa",
           "#EF553B",
           "#00cc96",
           "#ab63fa",
           "#FFA15A",
           "#19d3f3",
           "#FF6692",
           "#B6E880",
           "#FF97FF",
           "#FECB52"
          ],
          "font": {
           "color": "#2a3f5f"
          },
          "geo": {
           "bgcolor": "white",
           "lakecolor": "white",
           "landcolor": "#E5ECF6",
           "showlakes": true,
           "showland": true,
           "subunitcolor": "white"
          },
          "hoverlabel": {
           "align": "left"
          },
          "hovermode": "closest",
          "mapbox": {
           "style": "light"
          },
          "paper_bgcolor": "white",
          "plot_bgcolor": "#E5ECF6",
          "polar": {
           "angularaxis": {
            "gridcolor": "white",
            "linecolor": "white",
            "ticks": ""
           },
           "bgcolor": "#E5ECF6",
           "radialaxis": {
            "gridcolor": "white",
            "linecolor": "white",
            "ticks": ""
           }
          },
          "scene": {
           "xaxis": {
            "backgroundcolor": "#E5ECF6",
            "gridcolor": "white",
            "gridwidth": 2,
            "linecolor": "white",
            "showbackground": true,
            "ticks": "",
            "zerolinecolor": "white"
           },
           "yaxis": {
            "backgroundcolor": "#E5ECF6",
            "gridcolor": "white",
            "gridwidth": 2,
            "linecolor": "white",
            "showbackground": true,
            "ticks": "",
            "zerolinecolor": "white"
           },
           "zaxis": {
            "backgroundcolor": "#E5ECF6",
            "gridcolor": "white",
            "gridwidth": 2,
            "linecolor": "white",
            "showbackground": true,
            "ticks": "",
            "zerolinecolor": "white"
           }
          },
          "shapedefaults": {
           "line": {
            "color": "#2a3f5f"
           }
          },
          "ternary": {
           "aaxis": {
            "gridcolor": "white",
            "linecolor": "white",
            "ticks": ""
           },
           "baxis": {
            "gridcolor": "white",
            "linecolor": "white",
            "ticks": ""
           },
           "bgcolor": "#E5ECF6",
           "caxis": {
            "gridcolor": "white",
            "linecolor": "white",
            "ticks": ""
           }
          },
          "title": {
           "x": 0.05
          },
          "xaxis": {
           "automargin": true,
           "gridcolor": "white",
           "linecolor": "white",
           "ticks": "",
           "title": {
            "standoff": 15
           },
           "zerolinecolor": "white",
           "zerolinewidth": 2
          },
          "yaxis": {
           "automargin": true,
           "gridcolor": "white",
           "linecolor": "white",
           "ticks": "",
           "title": {
            "standoff": 15
           },
           "zerolinecolor": "white",
           "zerolinewidth": 2
          }
         }
        },
        "title": {
         "text": "Worlds GDP in 2009 2010"
        }
       }
      },
      "text/html": [
       "<div>\n",
       "        \n",
       "        \n",
       "            <div id=\"bfe446b5-97e3-4802-bbb2-d4cad5e26091\" class=\"plotly-graph-div\" style=\"height:525px; width:100%;\"></div>\n",
       "            <script type=\"text/javascript\">\n",
       "                require([\"plotly\"], function(Plotly) {\n",
       "                    window.PLOTLYENV=window.PLOTLYENV || {};\n",
       "                    \n",
       "                if (document.getElementById(\"bfe446b5-97e3-4802-bbb2-d4cad5e26091\")) {\n",
       "                    Plotly.newPlot(\n",
       "                        'bfe446b5-97e3-4802-bbb2-d4cad5e26091',\n",
       "                        [{\"colorscale\": [[0.0, \"rgb(255,245,240)\"], [0.125, \"rgb(254,224,210)\"], [0.25, \"rgb(252,187,161)\"], [0.375, \"rgb(252,146,114)\"], [0.5, \"rgb(251,106,74)\"], [0.625, \"rgb(239,59,44)\"], [0.75, \"rgb(203,24,29)\"], [0.875, \"rgb(165,15,21)\"], [1.0, \"rgb(103,0,13)\"]], \"locations\": [\"AFG\", \"AGO\", \"ARB\", \"ARE\", \"ARG\", \"ARM\", \"AUS\", \"AZE\", \"BDI\", \"BFA\", \"BGD\", \"BHR\", \"BHS\", \"BLR\", \"BLZ\", \"BOL\", \"BRA\", \"BRB\", \"BRN\", \"BTN\", \"BWA\", \"CAF\", \"CAN\", \"CEB\", \"CHE\", \"CHL\", \"CHN\", \"CIV\", \"CMR\", \"COD\", \"COG\", \"COL\", \"COM\", \"CRI\", \"CSS\", \"CUB\", \"CZE\", \"DJI\", \"DMA\", \"DNK\", \"DOM\", \"DZA\", \"EAP\", \"EAR\", \"EAS\", \"ECA\", \"ECS\", \"ECU\", \"EGY\", \"ERI\", \"FCS\", \"FJI\", \"FRO\", \"FSM\", \"GAB\", \"GBR\", \"GEO\", \"GHA\", \"GIN\", \"GMB\", \"GNB\", \"GNQ\", \"GTM\", \"GUM\", \"GUY\", \"HIC\", \"HKG\", \"HND\", \"HPC\", \"HTI\", \"HUN\", \"IBD\", \"IBT\", \"IDA\", \"IDB\", \"IDN\", \"IDX\", \"IMN\", \"IND\", \"IRN\", \"IRQ\", \"ISL\", \"ISR\", \"JAM\", \"JOR\", \"JPN\", \"KAZ\", \"KEN\", \"KGZ\", \"KHM\", \"KIR\", \"KOR\", \"KWT\", \"LAC\", \"LAO\", \"LBN\", \"LBR\", \"LBY\", \"LCA\", \"LCN\", \"LDC\", \"LIC\", \"LIE\", \"LKA\", \"LMC\", \"LMY\", \"LSO\", \"LTE\", \"LUX\", \"MAC\", \"MAR\", \"MDA\", \"MDG\", \"MDV\", \"MEA\", \"MEX\", \"MHL\", \"MIC\", \"MKD\", \"MLI\", \"MLT\", \"MMR\", \"MNA\", \"MNG\", \"MNP\", \"MRT\", \"MUS\", \"MWI\", \"MYS\", \"NAC\", \"NAM\", \"NER\", \"NGA\", \"NIC\", \"NOR\", \"NPL\", \"NRU\", \"NZL\", \"OED\", \"OMN\", \"OSS\", \"PAK\", \"PAN\", \"PER\", \"PHL\", \"PLW\", \"PNG\", \"POL\", \"PRE\", \"PRI\", \"PRY\", \"PSE\", \"PSS\", \"PST\", \"QAT\", \"RUS\", \"RWA\", \"SAS\", \"SAU\", \"SDN\", \"SGP\", \"SLB\", \"SLE\", \"SLV\", \"SSA\", \"SSF\", \"SST\", \"STP\", \"SUR\", \"SVK\", \"SWE\", \"SWZ\", \"SYC\", \"TCD\", \"TEA\", \"TEC\", \"TGO\", \"THA\", \"TJK\", \"TKM\", \"TLA\", \"TLS\", \"TMN\", \"TON\", \"TSA\", \"TSS\", \"TTO\", \"TUN\", \"TUR\", \"TUV\", \"TZA\", \"UGA\", \"UKR\", \"UMC\", \"URY\", \"USA\", \"UZB\", \"VCT\", \"VEN\", \"VIR\", \"VNM\", \"VUT\", \"WLD\", \"WSM\", \"XKX\", \"YEM\", \"ZAF\", \"ZMB\", \"ZWE\"], \"reversescale\": true, \"showscale\": false, \"type\": \"choropleth\", \"z\": [27.473781906852828, 19.190552182097143, 17.466456225207995, 14.293179687208596, 27.224426262371605, 7.0808587950566855, 23.510466972225323, 19.44213860009744, 14.07165162594452, 7.298110394454249, 12.491766078199465, 12.097945800293527, 1.1400566622186425, 15.314303869539762, 4.607054655889396, 13.320262594329385, 32.50422529268725, 1.1149678009799218, 27.719930269403193, 25.357759028985505, 24.53967572568895, 0.21613775021895798, 17.672091804742557, 2.0172403184909378, 7.807196667177991, 26.769642693910832, 19.38700339305618, 2.500304092105871, 0.48387008237320334, 15.643974319710127, 25.16634635660194, 23.05843746890566, 0.5968304021887482, 21.942919060308373, 8.77843399425061, 3.621134020618557, 0.6294867915363915, 7.577943566337288, 0.9712376525055905, 0.23470023526254125, 11.588942034223058, 17.488555421636306, 21.287542621306823, 21.488612683256417, 16.599013080573872, 19.120698669059387, 2.3212793452287985, 11.253545003409005, 15.824729608406512, 14.021898248456043, 19.095349347845623, 9.401584481428362, 1.9531614314491759, 5.914489116027013, 19.008866501977806, 2.448664305838237, 8.096435609434574, 23.854651804351732, 2.0331284813626325, 5.681166854886319, 2.6912800928359015, 8.455976676088985, 9.552240585398101, 2.384438402007948, 10.279805627967892, 4.954506309295505, 6.816877800577922, 8.581653377218208, 10.48899916748321, 0.5754613020767883, 0.25167938498709386, 21.492738873123887, 21.05210313531988, 15.003098066911527, 16.63373724911431, 39.94107278923618, 13.336014132927549, 7.8929729819388355, 25.127777913086867, 17.63286361906544, 24.051282427095586, 2.831040007025792, 12.626666361806258, 9.3872783365832, 10.936709832859302, 8.959685599507651, 28.392218566423104, 8.045528486413001, 2.223755981810455, 8.079555068054065, 17.8982218445996, 21.350141118230145, 8.988788178786475, 24.448836749742753, 22.199486132783942, 8.293550136136211, 13.009049773755658, 18.63467734453445, 9.437372677847149, 24.007486480280747, 14.555306937123975, 8.98219190433979, 12.827415938500614, 34.848703050217225, 22.61915524406623, 21.238210086202177, 33.18374426068683, 19.969902770778834, 3.585583275705694, 30.956736180210896, 0.34384876171655054, 6.842308216256611, 2.100169787880878, 10.356104141808608, 16.87488806638482, 17.527555119404123, 8.093174111749963, 21.44779153886168, 0.05783197187843987, 4.88877941978854, 2.4959225554158393, 34.23446016075607, 15.688049981869051, 56.84372846103006, 0.5031446540880503, 18.445025508303285, 9.583115524423926, 12.413375191970182, 26.085065059326283, 4.987955801139695, 27.106237929552258, 6.431431184165409, 24.48939010450871, 5.542162661998315, 10.994833408114586, 24.485994007495766, 11.193840800395355, 20.80558448075627, 4.763070262423919, 21.191273454338145, 16.230210017299964, 5.503375853462254, 8.569101396929934, 22.10336896659265, 18.5678842592157, 0.08686166663838782, 22.64447568543054, 8.972730304927577, 18.17531426262387, 2.0705375076774954, 21.816612918846474, 22.631463085770893, 11.076659960271826, 4.275140703644617, 27.939074879349423, 24.722905152600685, 7.327832382272091, 22.606491306421706, 23.097139611351952, 23.48796037546215, 22.8749873786768, 13.949592184044116, 5.058333999800751, 4.808117618291412, 19.203637330625554, 19.20009370552298, 14.879617382919877, 5.128831505985309, 12.716692743090368, 0.6244126577195305, 13.666867276081495, 23.973781303488483, 14.460583678688673, 15.175056352140547, 21.290743199503705, 17.20121055877224, 1.7919065274198458, 21.08370083002016, 13.308544982156759, 11.718248251201716, 24.94564829633508, 24.981247655956995, 15.6436557093732, 16.129487518785073, 22.606491306421706, 19.20009370552298, 15.569905957892752, 1.3715201903001344, 19.74152757163223, 17.425294469261793, 9.924560011950996, 11.104657596578898, 16.137986165583655, 21.110036261320943, 27.23727785159888, 3.7841936108282423, 16.751787783595347, 0.9339563660178638, 19.22592602645289, 3.2357839638353556, 9.354451496154857, 14.873401242366386, 9.455919605509687, 14.633356150458113, 3.1248201818164447, 22.986121760581653, 26.83445969195684, 32.209705861995275, 24.580102494018778]}, {\"colorscale\": [[0.0, \"rgb(247,251,255)\"], [0.125, \"rgb(222,235,247)\"], [0.25, \"rgb(198,219,239)\"], [0.375, \"rgb(158,202,225)\"], [0.5, \"rgb(107,174,214)\"], [0.625, \"rgb(66,146,198)\"], [0.75, \"rgb(33,113,181)\"], [0.875, \"rgb(8,81,156)\"], [1.0, \"rgb(8,48,107)\"]], \"locations\": [\"ABW\", \"ALB\", \"AND\", \"ASM\", \"ATG\", \"AUT\", \"BEL\", \"BEN\", \"BGR\", \"BIH\", \"BMU\", \"CPV\", \"CYP\", \"DEU\", \"EMU\", \"ESP\", \"EST\", \"ETH\", \"EUU\", \"FIN\", \"FRA\", \"GRC\", \"GRD\", \"GRL\", \"HRV\", \"IRL\", \"ITA\", \"KNA\", \"LTU\", \"LVA\", \"MCO\", \"MNE\", \"MOZ\", \"NLD\", \"PRT\", \"ROU\", \"SEN\", \"SMR\", \"SRB\", \"SVN\"], \"reversescale\": true, \"showscale\": false, \"type\": \"choropleth\", \"z\": [-4.337133914598853, -0.9735038650885939, -8.327626878994774, -15.04424778761062, -5.863489358953189, -2.068996619729266, -0.20735846762384558, -1.7888440393202063, -2.456270478918608, -2.4813156429069494, -1.0671713071384603, -2.775203595920684, -1.4663093935818583, -0.026636553777708648, -2.0454948012710963, -4.501568377513023, -0.8220651224945493, -7.718249988431852, -0.6761087165820705, -1.4708652259308013, -1.769843901790406, -9.284440055796974, -0.034008117385111045, -1.0590045944071689, -4.637068270755847, -6.076721470320241, -2.7504591928023845, -0.03667486635765278, -0.85510156280975, -9.218567863581452, -1.6326098986547002, -0.4841720848724782, -6.941723827879244, -2.5110151864533528, -2.2327796157564075, -3.7000155919209727, -0.20398302833951407, -9.482384728889587, -7.406249259360903, -4.440633379085494]}],\n",
       "                        {\"geo\": {\"scope\": \"world\"}, \"template\": {\"data\": {\"bar\": [{\"error_x\": {\"color\": \"#2a3f5f\"}, \"error_y\": {\"color\": \"#2a3f5f\"}, \"marker\": {\"line\": {\"color\": \"#E5ECF6\", \"width\": 0.5}}, \"type\": \"bar\"}], \"barpolar\": [{\"marker\": {\"line\": {\"color\": \"#E5ECF6\", \"width\": 0.5}}, \"type\": \"barpolar\"}], \"carpet\": [{\"aaxis\": {\"endlinecolor\": \"#2a3f5f\", \"gridcolor\": \"white\", \"linecolor\": \"white\", \"minorgridcolor\": \"white\", \"startlinecolor\": \"#2a3f5f\"}, \"baxis\": {\"endlinecolor\": \"#2a3f5f\", \"gridcolor\": \"white\", \"linecolor\": \"white\", \"minorgridcolor\": \"white\", \"startlinecolor\": \"#2a3f5f\"}, \"type\": \"carpet\"}], \"choropleth\": [{\"colorbar\": {\"outlinewidth\": 0, \"ticks\": \"\"}, \"type\": \"choropleth\"}], \"contour\": [{\"colorbar\": {\"outlinewidth\": 0, \"ticks\": \"\"}, \"colorscale\": [[0.0, \"#0d0887\"], [0.1111111111111111, \"#46039f\"], [0.2222222222222222, \"#7201a8\"], [0.3333333333333333, \"#9c179e\"], [0.4444444444444444, \"#bd3786\"], [0.5555555555555556, \"#d8576b\"], [0.6666666666666666, \"#ed7953\"], [0.7777777777777778, \"#fb9f3a\"], [0.8888888888888888, \"#fdca26\"], [1.0, \"#f0f921\"]], \"type\": \"contour\"}], \"contourcarpet\": [{\"colorbar\": {\"outlinewidth\": 0, \"ticks\": \"\"}, \"type\": \"contourcarpet\"}], \"heatmap\": [{\"colorbar\": {\"outlinewidth\": 0, \"ticks\": \"\"}, \"colorscale\": [[0.0, \"#0d0887\"], [0.1111111111111111, \"#46039f\"], [0.2222222222222222, \"#7201a8\"], [0.3333333333333333, \"#9c179e\"], [0.4444444444444444, \"#bd3786\"], [0.5555555555555556, \"#d8576b\"], [0.6666666666666666, \"#ed7953\"], [0.7777777777777778, \"#fb9f3a\"], [0.8888888888888888, \"#fdca26\"], [1.0, \"#f0f921\"]], \"type\": \"heatmap\"}], \"heatmapgl\": [{\"colorbar\": {\"outlinewidth\": 0, \"ticks\": \"\"}, \"colorscale\": [[0.0, \"#0d0887\"], [0.1111111111111111, \"#46039f\"], [0.2222222222222222, \"#7201a8\"], [0.3333333333333333, \"#9c179e\"], [0.4444444444444444, \"#bd3786\"], [0.5555555555555556, \"#d8576b\"], [0.6666666666666666, \"#ed7953\"], [0.7777777777777778, \"#fb9f3a\"], [0.8888888888888888, \"#fdca26\"], [1.0, \"#f0f921\"]], \"type\": \"heatmapgl\"}], \"histogram\": [{\"marker\": {\"colorbar\": {\"outlinewidth\": 0, \"ticks\": \"\"}}, \"type\": \"histogram\"}], \"histogram2d\": [{\"colorbar\": {\"outlinewidth\": 0, \"ticks\": \"\"}, \"colorscale\": [[0.0, \"#0d0887\"], [0.1111111111111111, \"#46039f\"], [0.2222222222222222, \"#7201a8\"], [0.3333333333333333, \"#9c179e\"], [0.4444444444444444, \"#bd3786\"], [0.5555555555555556, \"#d8576b\"], [0.6666666666666666, \"#ed7953\"], [0.7777777777777778, \"#fb9f3a\"], [0.8888888888888888, \"#fdca26\"], [1.0, \"#f0f921\"]], \"type\": \"histogram2d\"}], \"histogram2dcontour\": [{\"colorbar\": {\"outlinewidth\": 0, \"ticks\": \"\"}, \"colorscale\": [[0.0, \"#0d0887\"], [0.1111111111111111, \"#46039f\"], [0.2222222222222222, \"#7201a8\"], [0.3333333333333333, \"#9c179e\"], [0.4444444444444444, \"#bd3786\"], [0.5555555555555556, \"#d8576b\"], [0.6666666666666666, \"#ed7953\"], [0.7777777777777778, \"#fb9f3a\"], [0.8888888888888888, \"#fdca26\"], [1.0, \"#f0f921\"]], \"type\": \"histogram2dcontour\"}], \"mesh3d\": [{\"colorbar\": {\"outlinewidth\": 0, \"ticks\": \"\"}, \"type\": \"mesh3d\"}], \"parcoords\": [{\"line\": {\"colorbar\": {\"outlinewidth\": 0, \"ticks\": \"\"}}, \"type\": \"parcoords\"}], \"pie\": [{\"automargin\": true, \"type\": \"pie\"}], \"scatter\": [{\"marker\": {\"colorbar\": {\"outlinewidth\": 0, \"ticks\": \"\"}}, \"type\": \"scatter\"}], \"scatter3d\": [{\"line\": {\"colorbar\": {\"outlinewidth\": 0, \"ticks\": \"\"}}, \"marker\": {\"colorbar\": {\"outlinewidth\": 0, \"ticks\": \"\"}}, \"type\": \"scatter3d\"}], \"scattercarpet\": [{\"marker\": {\"colorbar\": {\"outlinewidth\": 0, \"ticks\": \"\"}}, \"type\": \"scattercarpet\"}], \"scattergeo\": [{\"marker\": {\"colorbar\": {\"outlinewidth\": 0, \"ticks\": \"\"}}, \"type\": \"scattergeo\"}], \"scattergl\": [{\"marker\": {\"colorbar\": {\"outlinewidth\": 0, \"ticks\": \"\"}}, \"type\": \"scattergl\"}], \"scattermapbox\": [{\"marker\": {\"colorbar\": {\"outlinewidth\": 0, \"ticks\": \"\"}}, \"type\": \"scattermapbox\"}], \"scatterpolar\": [{\"marker\": {\"colorbar\": {\"outlinewidth\": 0, \"ticks\": \"\"}}, \"type\": \"scatterpolar\"}], \"scatterpolargl\": [{\"marker\": {\"colorbar\": {\"outlinewidth\": 0, \"ticks\": \"\"}}, \"type\": \"scatterpolargl\"}], \"scatterternary\": [{\"marker\": {\"colorbar\": {\"outlinewidth\": 0, \"ticks\": \"\"}}, \"type\": \"scatterternary\"}], \"surface\": [{\"colorbar\": {\"outlinewidth\": 0, \"ticks\": \"\"}, \"colorscale\": [[0.0, \"#0d0887\"], [0.1111111111111111, \"#46039f\"], [0.2222222222222222, \"#7201a8\"], [0.3333333333333333, \"#9c179e\"], [0.4444444444444444, \"#bd3786\"], [0.5555555555555556, \"#d8576b\"], [0.6666666666666666, \"#ed7953\"], [0.7777777777777778, \"#fb9f3a\"], [0.8888888888888888, \"#fdca26\"], [1.0, \"#f0f921\"]], \"type\": \"surface\"}], \"table\": [{\"cells\": {\"fill\": {\"color\": \"#EBF0F8\"}, \"line\": {\"color\": \"white\"}}, \"header\": {\"fill\": {\"color\": \"#C8D4E3\"}, \"line\": {\"color\": \"white\"}}, \"type\": \"table\"}]}, \"layout\": {\"annotationdefaults\": {\"arrowcolor\": \"#2a3f5f\", \"arrowhead\": 0, \"arrowwidth\": 1}, \"coloraxis\": {\"colorbar\": {\"outlinewidth\": 0, \"ticks\": \"\"}}, \"colorscale\": {\"diverging\": [[0, \"#8e0152\"], [0.1, \"#c51b7d\"], [0.2, \"#de77ae\"], [0.3, \"#f1b6da\"], [0.4, \"#fde0ef\"], [0.5, \"#f7f7f7\"], [0.6, \"#e6f5d0\"], [0.7, \"#b8e186\"], [0.8, \"#7fbc41\"], [0.9, \"#4d9221\"], [1, \"#276419\"]], \"sequential\": [[0.0, \"#0d0887\"], [0.1111111111111111, \"#46039f\"], [0.2222222222222222, \"#7201a8\"], [0.3333333333333333, \"#9c179e\"], [0.4444444444444444, \"#bd3786\"], [0.5555555555555556, \"#d8576b\"], [0.6666666666666666, \"#ed7953\"], [0.7777777777777778, \"#fb9f3a\"], [0.8888888888888888, \"#fdca26\"], [1.0, \"#f0f921\"]], \"sequentialminus\": [[0.0, \"#0d0887\"], [0.1111111111111111, \"#46039f\"], [0.2222222222222222, \"#7201a8\"], [0.3333333333333333, \"#9c179e\"], [0.4444444444444444, \"#bd3786\"], [0.5555555555555556, \"#d8576b\"], [0.6666666666666666, \"#ed7953\"], [0.7777777777777778, \"#fb9f3a\"], [0.8888888888888888, \"#fdca26\"], [1.0, \"#f0f921\"]]}, \"colorway\": [\"#636efa\", \"#EF553B\", \"#00cc96\", \"#ab63fa\", \"#FFA15A\", \"#19d3f3\", \"#FF6692\", \"#B6E880\", \"#FF97FF\", \"#FECB52\"], \"font\": {\"color\": \"#2a3f5f\"}, \"geo\": {\"bgcolor\": \"white\", \"lakecolor\": \"white\", \"landcolor\": \"#E5ECF6\", \"showlakes\": true, \"showland\": true, \"subunitcolor\": \"white\"}, \"hoverlabel\": {\"align\": \"left\"}, \"hovermode\": \"closest\", \"mapbox\": {\"style\": \"light\"}, \"paper_bgcolor\": \"white\", \"plot_bgcolor\": \"#E5ECF6\", \"polar\": {\"angularaxis\": {\"gridcolor\": \"white\", \"linecolor\": \"white\", \"ticks\": \"\"}, \"bgcolor\": \"#E5ECF6\", \"radialaxis\": {\"gridcolor\": \"white\", \"linecolor\": \"white\", \"ticks\": \"\"}}, \"scene\": {\"xaxis\": {\"backgroundcolor\": \"#E5ECF6\", \"gridcolor\": \"white\", \"gridwidth\": 2, \"linecolor\": \"white\", \"showbackground\": true, \"ticks\": \"\", \"zerolinecolor\": \"white\"}, \"yaxis\": {\"backgroundcolor\": \"#E5ECF6\", \"gridcolor\": \"white\", \"gridwidth\": 2, \"linecolor\": \"white\", \"showbackground\": true, \"ticks\": \"\", \"zerolinecolor\": \"white\"}, \"zaxis\": {\"backgroundcolor\": \"#E5ECF6\", \"gridcolor\": \"white\", \"gridwidth\": 2, \"linecolor\": \"white\", \"showbackground\": true, \"ticks\": \"\", \"zerolinecolor\": \"white\"}}, \"shapedefaults\": {\"line\": {\"color\": \"#2a3f5f\"}}, \"ternary\": {\"aaxis\": {\"gridcolor\": \"white\", \"linecolor\": \"white\", \"ticks\": \"\"}, \"baxis\": {\"gridcolor\": \"white\", \"linecolor\": \"white\", \"ticks\": \"\"}, \"bgcolor\": \"#E5ECF6\", \"caxis\": {\"gridcolor\": \"white\", \"linecolor\": \"white\", \"ticks\": \"\"}}, \"title\": {\"x\": 0.05}, \"xaxis\": {\"automargin\": true, \"gridcolor\": \"white\", \"linecolor\": \"white\", \"ticks\": \"\", \"title\": {\"standoff\": 15}, \"zerolinecolor\": \"white\", \"zerolinewidth\": 2}, \"yaxis\": {\"automargin\": true, \"gridcolor\": \"white\", \"linecolor\": \"white\", \"ticks\": \"\", \"title\": {\"standoff\": 15}, \"zerolinecolor\": \"white\", \"zerolinewidth\": 2}}}, \"title\": {\"text\": \"Worlds GDP in 2009 2010\"}},\n",
       "                        {\"responsive\": true}\n",
       "                    ).then(function(){\n",
       "                            \n",
       "var gd = document.getElementById('bfe446b5-97e3-4802-bbb2-d4cad5e26091');\n",
       "var x = new MutationObserver(function (mutations, observer) {{\n",
       "        var display = window.getComputedStyle(gd).display;\n",
       "        if (!display || display === 'none') {{\n",
       "            console.log([gd, 'removed!']);\n",
       "            Plotly.purge(gd);\n",
       "            observer.disconnect();\n",
       "        }}\n",
       "}});\n",
       "\n",
       "// Listen for the removal of the full notebook cells\n",
       "var notebookContainer = gd.closest('#notebook-container');\n",
       "if (notebookContainer) {{\n",
       "    x.observe(notebookContainer, {childList: true});\n",
       "}}\n",
       "\n",
       "// Listen for the clearing of the current output cell\n",
       "var outputEl = gd.closest('.output');\n",
       "if (outputEl) {{\n",
       "    x.observe(outputEl, {childList: true});\n",
       "}}\n",
       "\n",
       "                        })\n",
       "                };\n",
       "                });\n",
       "            </script>\n",
       "        </div>"
      ]
     },
     "metadata": {},
     "output_type": "display_data"
    }
   ],
   "source": [
    "fig = go.Figure(data=[go.Choropleth(\n",
    "    locations=worldbank_with_positive_change['Country Code'], # Spatial coordinates\n",
    "    z = worldbank_with_positive_change['GDP_change'].astype(float), # Data to be color-coded\n",
    "    colorscale = 'Reds',\n",
    "    reversescale=True,\n",
    "    showscale=False\n",
    "),\n",
    "go.Choropleth(\n",
    "    locations=worldbank_with_negative_change['Country Code'], # Spatial coordinates\n",
    "    z = worldbank_with_negative_change['GDP_change'].astype(float), # Data to be color-coded\n",
    "    colorscale = 'Blues',\n",
    "    reversescale=True,\n",
    "    showscale=False # remove colorbar\n",
    ")],\n",
    ")\n",
    "fig.update_layout(\n",
    "    title_text = 'Worlds GDP in 2009 2010',\n",
    "    geo_scope='world',\n",
    ")\n",
    "fig.show()\n",
    "# !!!!!!!!!!!!!!!!!!!!!!!!!!!!!!!!!!!!!!!!!!!!!!!!!!!!!!!!!!!!!!!!!!!"
   ]
  },
  {
   "cell_type": "code",
   "execution_count": null,
   "metadata": {},
   "outputs": [],
   "source": []
  },
  {
   "cell_type": "code",
   "execution_count": null,
   "metadata": {},
   "outputs": [],
   "source": []
  },
  {
   "cell_type": "code",
   "execution_count": null,
   "metadata": {},
   "outputs": [],
   "source": []
  },
  {
   "cell_type": "code",
   "execution_count": null,
   "metadata": {},
   "outputs": [],
   "source": []
  }
 ],
 "metadata": {
  "kernelspec": {
   "display_name": "Python 3",
   "language": "python",
   "name": "python3"
  },
  "language_info": {
   "codemirror_mode": {
    "name": "ipython",
    "version": 3
   },
   "file_extension": ".py",
   "mimetype": "text/x-python",
   "name": "python",
   "nbconvert_exporter": "python",
   "pygments_lexer": "ipython3",
   "version": "3.7.4"
  }
 },
 "nbformat": 4,
 "nbformat_minor": 4
}
